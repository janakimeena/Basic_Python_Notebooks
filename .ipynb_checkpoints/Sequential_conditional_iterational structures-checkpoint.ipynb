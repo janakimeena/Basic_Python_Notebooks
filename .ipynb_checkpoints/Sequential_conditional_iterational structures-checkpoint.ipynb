{
 "cells": [
  {
   "cell_type": "markdown",
   "metadata": {},
   "source": [
    "# Types of Structures in python\n",
    "\n",
    "\n",
    "You will be learning the following concepts in this section:\n",
    "* Sequential structure\n",
    "* Conditional structure\n",
    "* Iterative structure\n",
    "\n",
    "\n",
    "You will also be learning how to read input in python and writing programs based on different structures\n",
    "    * input()\n",
    "    * Sample programs\n"
   ]
  },
  {
   "cell_type": "markdown",
   "metadata": {},
   "source": [
    "## Reading input in python"
   ]
  },
  {
   "cell_type": "code",
   "execution_count": null,
   "metadata": {
    "collapsed": true
   },
   "outputs": [],
   "source": [
    "#function to read input data\n",
    "x=input()"
   ]
  },
  {
   "cell_type": "code",
   "execution_count": null,
   "metadata": {
    "collapsed": true
   },
   "outputs": [],
   "source": [
    "x"
   ]
  },
  {
   "cell_type": "code",
   "execution_count": null,
   "metadata": {
    "collapsed": true
   },
   "outputs": [],
   "source": [
    "#The value read in python is a string by default\n",
    "#use manual conversion to convert the data read to integer\n",
    "x=int(input())\n",
    "x"
   ]
  },
  {
   "cell_type": "markdown",
   "metadata": {},
   "source": [
    "# Sequential Structure\n",
    "\n",
    "Sequential structure executes the program in the order in which they appear in the program"
   ]
  },
  {
   "cell_type": "markdown",
   "metadata": {},
   "source": [
    "# Let us try some simple programs in python\n",
    "\n",
    "1) ABC company Ltd. is interested to computerize the pay calculation of their employees in the form of Basic Pay (BP), Dearness Allowance (DA) and House Rent Allowance (HRA). DA is 80% of Basic Pay, and HRA is 30% of Basic pay. They have the deduction in the salary as PF which is 12% of Basic pay. Calculate the net salary."
   ]
  },
  {
   "cell_type": "code",
   "execution_count": null,
   "metadata": {
    "collapsed": true
   },
   "outputs": [],
   "source": [
    "BP=int(input())\n",
    "DA=.8*BP\n",
    "HRA=.3*BP\n",
    "PF=.12*BP\n",
    "Netsalary=BP+DA+HRA-PF\n",
    "print(Netsalary)"
   ]
  },
  {
   "cell_type": "markdown",
   "metadata": {
    "collapsed": true
   },
   "source": [
    "2) Find the average runs scored by a batsman in 4 matches"
   ]
  },
  {
   "cell_type": "code",
   "execution_count": null,
   "metadata": {
    "collapsed": true
   },
   "outputs": [],
   "source": [
    "print(\"Enter four scores\")\n",
    "run1=int(input())\n",
    "run2=int(input())\n",
    "run3=int(input())\n",
    "run4=int(input())\n",
    "total_run=run1+run2+run3+run4\n",
    "batting_average=total_run/4\n",
    "print('batting_average is', batting_average)"
   ]
  },
  {
   "cell_type": "markdown",
   "metadata": {},
   "source": [
    "3) Find the area of circle, given its radius."
   ]
  },
  {
   "cell_type": "code",
   "execution_count": null,
   "metadata": {
    "collapsed": true
   },
   "outputs": [],
   "source": [
    "import math\n",
    "print('Enter radius')\n",
    "radius=float(input())\n",
    "area=math.pi*radius*radius\n",
    "print(\"area of the circle is\", area)\n",
    "#To format the output to desired precision, uncomment the code below\n",
    "#print(\"area of the circle is\", format(area,\".2f\"))"
   ]
  },
  {
   "cell_type": "markdown",
   "metadata": {},
   "source": [
    "# Conditional structure\n",
    "\n",
    "Control statements providing selective execution of instructions based on condition(s)\n"
   ]
  },
  {
   "cell_type": "markdown",
   "metadata": {},
   "source": [
    "## `if, else, elif`  Statements\n",
    "Most of the time we would like    to execute the code to perform some action, based on, if the condition is true.<br> We can do this using \"**`if, else, elif`**\" statements. <br>\n",
    "The Python's \"**`if`**\" statement select actions to perform. <br><br>"
   ]
  },
  {
   "cell_type": "code",
   "execution_count": null,
   "metadata": {
    "collapsed": true
   },
   "outputs": [],
   "source": [
    "# let say, we have a conditon\n",
    "if 3 > 2:\n",
    "    print ('True') \n",
    "# print statement will only execute if the conditon is satisfied"
   ]
  },
  {
   "cell_type": "markdown",
   "metadata": {},
   "source": [
    "<font style=\"font-size:16px;color:red;\">*Notice a block of whitespace before the print( ) statement, in the cell above. It is very important in Python. Python does not use brackets in order to separate a block of code execution statements, it uses white spaces instead. Like most of the other IDEs for Python, Jupyter automatically does the indentation for us after a colon.*<font>"
   ]
  },
  {
   "cell_type": "markdown",
   "metadata": {},
   "source": [
    "If the condition is not satisfied (in the example below), print statement will not execute. Nothing will appear in the output"
   ]
  },
  {
   "cell_type": "code",
   "execution_count": null,
   "metadata": {
    "collapsed": true
   },
   "outputs": [],
   "source": [
    "if 3 < 2:\n",
    "    print ('True')"
   ]
  },
  {
   "cell_type": "code",
   "execution_count": null,
   "metadata": {
    "collapsed": true
   },
   "outputs": [],
   "source": [
    "#Read a mark value and print the grade as 'A' if the mark is greater than or equal to 90\n",
    "mark=int(input())\n",
    "if mark>=90:\n",
    "    print('Grade A')"
   ]
  },
  {
   "cell_type": "markdown",
   "metadata": {},
   "source": [
    "So, the condition is not satisfied and we did not get 'True' in the output. <br>\n",
    "In such situation, we usually want our program to do something even if the condition is not satisfied, e.g., print \"False\"!. This is where we introduce else. "
   ]
  },
  {
   "cell_type": "code",
   "execution_count": null,
   "metadata": {
    "collapsed": true
   },
   "outputs": [],
   "source": [
    "if 3 == 2: # Change == to != to print True\n",
    "    print ('True')\n",
    "else:\n",
    "    print ('False')"
   ]
  },
  {
   "cell_type": "code",
   "execution_count": null,
   "metadata": {
    "collapsed": true
   },
   "outputs": [],
   "source": [
    "#Read a mark value and print the grade as 'A' if the mark is greater than or equal to 90 and 'X' otherwise\n",
    "mark=int(input())\n",
    "if mark>=90:\n",
    "    print('Grade A')\n",
    "else:\n",
    "    print('Grade X')"
   ]
  },
  {
   "cell_type": "markdown",
   "metadata": {},
   "source": [
    "There are often times when selection among more than two sets of statements is needed - Multi-way selection <br> \n",
    "Let's introduce nested if statements <br>"
   ]
  },
  {
   "cell_type": "markdown",
   "metadata": {},
   "source": [
    "#### Example\n",
    "Read a mark value and print the grade as 'A' if the mark is >=90, or the grade as 'B' if the mark is >=80, or the grade as 'C' if the mark is >=70,or the grade as 'D' if the mark is >=60 and the grade as 'F' otherwise.b"
   ]
  },
  {
   "cell_type": "code",
   "execution_count": null,
   "metadata": {
    "collapsed": true
   },
   "outputs": [],
   "source": [
    "mark=int(input())\n",
    "if mark>=90:\n",
    "    print('Grade A')\n",
    "else:\n",
    "    if mark>=80:\n",
    "        print('Grade B')\n",
    "    else:\n",
    "        if mark>=70:\n",
    "            print('Grade C')\n",
    "        else:\n",
    "            if mark >=60:\n",
    "                print('Grade D')\n",
    "            else:\n",
    "                print('Grade F')"
   ]
  },
  {
   "cell_type": "code",
   "execution_count": null,
   "metadata": {},
   "outputs": [],
   "source": [
    "#Read three integers and find the greatest of all\n",
    "a=int(input())\n",
    "b=int(input())\n",
    "c=int(input())\n",
    "if a>b:\n",
    "    if a>c:\n",
    "        print('a is greatest')\n",
    "    else:\n",
    "        print('c is greatest')\n",
    "else:\n",
    "    if b>c:\n",
    "        print('b is greatest')\n",
    "    else:\n",
    "        print('c is greatest')"
   ]
  },
  {
   "cell_type": "markdown",
   "metadata": {},
   "source": [
    "A better alternative to nested structure is elif elif is a short of else-if)<br>\n",
    "We can introduce many elif statements in the code. <br><br>"
   ]
  },
  {
   "cell_type": "code",
   "execution_count": null,
   "metadata": {
    "collapsed": true
   },
   "outputs": [],
   "source": [
    "if 1 == 2:\n",
    "    print('1st statement')\n",
    "elif 2 == 2:\n",
    "    print('2nd statement')\n",
    "else:\n",
    "    print('3rd statement')"
   ]
  },
  {
   "cell_type": "markdown",
   "metadata": {},
   "source": [
    "***Important to remember for elif statement.*** *Notice that, the code will only execute the first true condition, it does not matter if you have other true conditions in the code after the first true.*<br>\n",
    "\n",
    "Let's try another example here!"
   ]
  },
  {
   "cell_type": "code",
   "execution_count": null,
   "metadata": {
    "collapsed": true
   },
   "outputs": [],
   "source": [
    "if 1 == 2:\n",
    "    print('1st statement')\n",
    "elif 3 == 3:\n",
    "    print('2nd statement')\n",
    "elif 2 == 2:\n",
    "    print('3nd statement')\n",
    "else:\n",
    "    print('4rd statement')"
   ]
  },
  {
   "cell_type": "markdown",
   "metadata": {},
   "source": [
    "In the code above, although 2==2 is True, the statement will not be printed as the 2nd is already true and is already executed!"
   ]
  },
  {
   "cell_type": "code",
   "execution_count": null,
   "metadata": {
    "collapsed": true
   },
   "outputs": [],
   "source": [
    "#using elif construct instead of nested if construct for mark-grade problem\n",
    "mark=int(input())\n",
    "if mark>=90:\n",
    "    print(\"Grade A\")\n",
    "elif mark>=80:\n",
    "    print(\"Grade B\")\n",
    "elif mark>=70:\n",
    "    print(\"Grade C\")\n",
    "elif mark>=60:\n",
    "    print(\"Grade D\")\n",
    "else:\n",
    "    print(\"Grade F\")"
   ]
  },
  {
   "cell_type": "markdown",
   "metadata": {},
   "source": [
    "Multiple conditions can be checked in a ‘if’ statement using logical operators ‘and’ and ‘or’. "
   ]
  },
  {
   "cell_type": "code",
   "execution_count": null,
   "metadata": {
    "collapsed": true
   },
   "outputs": [],
   "source": [
    "#Python code to print ‘excellent’ if mark1 and mark2 is greater than or equal to 90, print ‘good’ if mark1 or mark2 is greater than or equal to 90, print ‘need to improve’ if both mark1 and mark2 are lesser than 90\n",
    "mark1=int(input())\n",
    "mark2=int(input())\n",
    "if mark1>=90 and mark2 >=90:\n",
    "    print('excellent')\n",
    "if mark1>=90 or mark2>=90:\n",
    "    print('good')\n",
    "else:\n",
    "    print('needs to improve')"
   ]
  },
  {
   "cell_type": "code",
   "execution_count": null,
   "metadata": {},
   "outputs": [],
   "source": [
    "#Read three integers and find the greatest of all\n",
    "a=int(input())\n",
    "b=int(input())\n",
    "c=int(input())\n",
    "if a>b and a>c:\n",
    "    print('a is greatest')\n",
    "elif b>a and b>c:\n",
    "    print('b is greatest')\n",
    "elif c>a and c>b:\n",
    "    print('c is greatest')"
   ]
  },
  {
   "cell_type": "markdown",
   "metadata": {},
   "source": [
    "#### Lets practice a slightly bigger problem\n",
    "1) Given the number of hours and minutes browsed, write a program to calculate bill for Internet Browsing in a browsing center. The conditions are given below.\n",
    "(a) 1 Hour Rs.50\n",
    "(b) 1 minute Re. 1\n",
    "(c) Rs. 200 for five hours\n",
    "Boundary condition:  User can only browse for a maximum of 7 hours\n",
    "Check boundary conditions "
   ]
  },
  {
   "cell_type": "code",
   "execution_count": null,
   "metadata": {
    "collapsed": true
   },
   "outputs": [],
   "source": [
    "#code\n",
    "hours=int(input())\n",
    "minutes=int(input())\n",
    "amount=0\n",
    "if hours>7:\n",
    "    print('Invalid Input')\n",
    "else:\n",
    "    if hours >=5:\n",
    "        amount+=200\n",
    "        hours=hours-5\n",
    "    amount+=hours*50+minutes*1\n",
    "print('The bill amount =',amount)\n",
    "    "
   ]
  },
  {
   "cell_type": "markdown",
   "metadata": {},
   "source": [
    "2) Government of India has decided to give scholarship for students who are first graduates in family and have scored average > 98 in math, physics and chemistry. Design an algorithm and write a Python program to check if a student is eligible for scholarship\n",
    "Boundary Conditions: All marks should be >0"
   ]
  },
  {
   "cell_type": "code",
   "execution_count": null,
   "metadata": {},
   "outputs": [],
   "source": [
    "print('Is first graduate (1 for yes and 0 for no)')\n",
    "first = int(input())\n",
    "print('Enter physics marks')\n",
    "phy_mark=int(input())\n",
    "print('Enter chemistry marks')\n",
    "che_mark=int(input())\n",
    "print('Enter maths marks')\n",
    "mat_mark=int(input())\n",
    "total_mark=phy_mark+che_mark+mat_mark\n",
    "if (phy_mark<0 or che_mark<0 or mat_mark<0):\n",
    "    print('Invalid input')\n",
    "else:\n",
    "    average=total_mark/3\n",
    "    if first==1 and average >98:\n",
    "        print('candidate qualified for Scholarship')\n",
    "    else:\n",
    "        print('candidate not qualified for Scholarship')\n"
   ]
  },
  {
   "cell_type": "markdown",
   "metadata": {},
   "source": [
    "### Ternary Operator\n",
    "Consider the following statement, which sets A to either Y or Z, based on the truth value of X: \n",
    "if X:    \n",
    "\tA = Y \n",
    "else:    \n",
    "\tA = Z\n",
    " \n",
    "New expression format that allows us to say the same thing in one expression: \n",
    "A = Y if X else Z \n"
   ]
  },
  {
   "cell_type": "markdown",
   "metadata": {},
   "source": [
    "### Sample Problem 1\n",
    "Given the number of units consumed, write a Python program to calculate the electric bill. The charges are as follows:\n",
    "\tNo. of units consumed\t\tRates in (Rs.)\n",
    "\t201 – 500\t\t\t\t3.5\n",
    "\t101 – 200\t\t\t\t2.50\n",
    "\tLess than 101\t\t\t1.50\n",
    "\tAssume that the user will give only values less than or equal to 500"
   ]
  },
  {
   "cell_type": "code",
   "execution_count": null,
   "metadata": {
    "collapsed": true
   },
   "outputs": [],
   "source": [
    "#code\n",
    "#Read the number of units consumed\n",
    "units = int(input('Enter number of units'))\n",
    "\n",
    "#amount for units in range 201-500 is calculated\n",
    "amount = (units-200)*3.5 if units>200 else 0\n",
    "\n",
    "#Change units to only uncharged units\n",
    "units = 200 if units>200 else units\n",
    "\n",
    "#calculate amount for units in range 101-200\n",
    "amount = amount + (units-100)*2.5 if units>100 else 0\n",
    "\n",
    "#Change units to only uncharged units\n",
    "units = 100 if units>100 else units\n",
    "\n",
    "#calculate amount for units less than 100\n",
    "amount = amount + (units)*1.5\n",
    "print (amount)\n"
   ]
  },
  {
   "cell_type": "markdown",
   "metadata": {},
   "source": [
    "### Sample Problem 2\n",
    "Write a Python program to check whether a blood donor is eligible or not for donating blood. The conditions laid down are as under. Use if statement.\n",
    "\t(a) Age should be above 18 years but not more than 55 years.\n",
    "\t(b) Weight should be more than 45 kg."
   ]
  },
  {
   "cell_type": "code",
   "execution_count": null,
   "metadata": {},
   "outputs": [],
   "source": [
    "age = int(input('Enter age'))\n",
    "weight  = float(input('Enter weight'))\n",
    "donate = 'donate' if (age > 18 and age <=55) and (weight>45) else 'do not donate'\n",
    "print(donate)"
   ]
  },
  {
   "cell_type": "markdown",
   "metadata": {},
   "source": [
    "# Iterative Structure\n",
    "Used for repeated execution of a set of instructions <br>\n",
    "Iterative control structures are commonly referred to as “loops”.<br>\n",
    "**while** and **for** are the two main loops in Python.<br>\n",
    "In loops, the statements perform an action over and over, based on the said condition."
   ]
  },
  {
   "cell_type": "code",
   "execution_count": 1,
   "metadata": {},
   "outputs": [
    {
     "name": "stdout",
     "output_type": "stream",
     "text": [
      "1\n",
      "2\n",
      "3\n",
      "4\n",
      "5\n",
      "6\n",
      "7\n",
      "8\n",
      "9\n",
      "10\n"
     ]
    }
   ],
   "source": [
    "for x in range(1,11):\n",
    "    print(x)"
   ]
  },
  {
   "cell_type": "code",
   "execution_count": 2,
   "metadata": {},
   "outputs": [
    {
     "name": "stdout",
     "output_type": "stream",
     "text": [
      "h\n",
      "e\n",
      "l\n",
      "l\n",
      "o\n"
     ]
    }
   ],
   "source": [
    "for x in 'hello':\n",
    "    print(x)"
   ]
  },
  {
   "cell_type": "code",
   "execution_count": 3,
   "metadata": {},
   "outputs": [
    {
     "name": "stdout",
     "output_type": "stream",
     "text": [
      "15\n",
      "17\n",
      "19\n",
      "21\n",
      "23\n",
      "25\n",
      "27\n",
      "29\n",
      "31\n",
      "33\n",
      "35\n",
      "37\n",
      "39\n",
      "41\n",
      "43\n",
      "45\n",
      "47\n",
      "49\n"
     ]
    }
   ],
   "source": [
    "for x in range(15,51,2):\n",
    "    print(x)"
   ]
  },
  {
   "cell_type": "code",
   "execution_count": 4,
   "metadata": {},
   "outputs": [
    {
     "name": "stdout",
     "output_type": "stream",
     "text": [
      "1\n",
      "2\n",
      "3\n",
      "4\n",
      "5\n",
      "6\n",
      "7\n",
      "8\n",
      "9\n",
      "10\n"
     ]
    }
   ],
   "source": [
    "i=1\n",
    "while i<11:\n",
    "    print(i)\n",
    "    i=i+1"
   ]
  },
  {
   "cell_type": "code",
   "execution_count": 5,
   "metadata": {},
   "outputs": [
    {
     "name": "stdout",
     "output_type": "stream",
     "text": [
      "100\n",
      "99\n",
      "98\n",
      "97\n",
      "96\n",
      "95\n",
      "94\n",
      "93\n",
      "92\n",
      "91\n",
      "90\n"
     ]
    }
   ],
   "source": [
    "i=100\n",
    "while i>89:\n",
    "    print(i)\n",
    "    i-=1"
   ]
  },
  {
   "cell_type": "code",
   "execution_count": 6,
   "metadata": {},
   "outputs": [
    {
     "name": "stdout",
     "output_type": "stream",
     "text": [
      "Enter a number3\n",
      "Odd\n",
      "Enter a number8\n",
      "Even\n",
      "Enter a number1\n",
      "Odd\n",
      "Enter a number-1\n",
      "I am out of loop\n"
     ]
    }
   ],
   "source": [
    "while True:\n",
    "    x = int(input('Enter a number'))\n",
    "    if x==-1:\n",
    "        break\n",
    "    if x%2==0:\n",
    "        print('Even')\n",
    "    else:\n",
    "        print('Odd')\n",
    "print(\"I am out of loop\")"
   ]
  },
  {
   "cell_type": "markdown",
   "metadata": {},
   "source": [
    "### while loop \n",
    "**repeat an action, until some condition has been met**<br>\n",
    "Python keeps evaluating the test expression (loop test) before executing the statements, which are nested in the body of the loop, until the test returns a false value:<br>"
   ]
  },
  {
   "cell_type": "code",
   "execution_count": 7,
   "metadata": {},
   "outputs": [
    {
     "name": "stdout",
     "output_type": "stream",
     "text": [
      "Enter \"Stop\" to Terminate12\n",
      "Child\n",
      "Enter \"Stop\" to Terminate35\n",
      "Middle aged\n",
      "Enter \"Stop\" to Terminate55\n",
      "Old aged\n",
      "Enter \"Stop\" to Terminate-1\n",
      "Invalid input\n",
      "Enter \"Stop\" to TerminateStop\n"
     ]
    }
   ],
   "source": [
    "while True:\n",
    "    x = input('Enter \"Stop\" to Terminate')\n",
    "    if x=='Stop':\n",
    "        break\n",
    "    x = int(x)\n",
    "    if x<1 or x>100:\n",
    "        print('Invalid input')\n",
    "        continue\n",
    "    if x<16:\n",
    "        print('Child')\n",
    "    elif x<51:\n",
    "        print('Middle aged')\n",
    "    else:\n",
    "        print('Old aged')\n",
    "        "
   ]
  },
  {
   "cell_type": "code",
   "execution_count": null,
   "metadata": {},
   "outputs": [],
   "source": [
    "# A simple while loop \n",
    "i = 1\n",
    "while i < 5:\n",
    "    # Run the block of code (given below), till \"i < 5\"\n",
    "    print('The value of i is: {}'.format(i)) \n",
    "    i = i+1 "
   ]
  },
  {
   "cell_type": "code",
   "execution_count": 21,
   "metadata": {},
   "outputs": [
    {
     "name": "stdout",
     "output_type": "stream",
     "text": [
      "Enter a number23\n",
      "Prime Number\n"
     ]
    }
   ],
   "source": [
    "import math\n",
    "num = int(input('Enter a number'))\n",
    "if num<=1:\n",
    "    print('Invalid input')\n",
    "else:\n",
    "    st = 2\n",
    "    stop = int(math.sqrt(num))\n",
    "    #flag = False\n",
    "    for x in range(st,stop+1):\n",
    "        if num%x==0:\n",
    "            print('Composite number')\n",
    "            #flag=True\n",
    "            break\n",
    "    else:\n",
    "        #if not flag: #if flag==False:\n",
    "        print('Prime Number')"
   ]
  },
  {
   "cell_type": "markdown",
   "metadata": {},
   "source": [
    "###### Write a Python code to find sum of all digits of a given number"
   ]
  },
  {
   "cell_type": "code",
   "execution_count": 23,
   "metadata": {},
   "outputs": [
    {
     "data": {
      "text/plain": [
       "151313132121676"
      ]
     },
     "execution_count": 23,
     "metadata": {},
     "output_type": "execute_result"
    }
   ],
   "source": [
    "1513131321216767//10"
   ]
  },
  {
   "cell_type": "code",
   "execution_count": 24,
   "metadata": {},
   "outputs": [
    {
     "data": {
      "text/plain": [
       "1"
      ]
     },
     "execution_count": 24,
     "metadata": {},
     "output_type": "execute_result"
    }
   ],
   "source": [
    "7236162381%10 "
   ]
  },
  {
   "cell_type": "code",
   "execution_count": 30,
   "metadata": {},
   "outputs": [
    {
     "name": "stdout",
     "output_type": "stream",
     "text": [
      "Enter a number12\n",
      "Sum of digits are  3\n"
     ]
    }
   ],
   "source": [
    "num=int(input('Enter a number'))\n",
    "sum1=0\n",
    "while num!=0:\n",
    "    ld=num%10\n",
    "    num=num//10#num//=10\n",
    "    sum1=sum1+ld\n",
    "print('Sum of digits are ',sum1)\n"
   ]
  },
  {
   "cell_type": "markdown",
   "metadata": {},
   "source": [
    "##### Write a Python code to find sum of factors of a given number excluding itself and 1"
   ]
  },
  {
   "cell_type": "markdown",
   "metadata": {},
   "source": [
    "if we dont have `i = i+1` statement, we will get into an infinite while loop, because `i` will alway be less than 5.<br>\n",
    "\n",
    "\n",
    "**Note**:<br>\n",
    "*If you get into the infinite while loop, you will notice a continuous out put or Asterisk on left side of your cell for a very long time* **\"In [*]\"** . <br>\n",
    "*Go to the Kernel and restart to get out of this situation.*<br>"
   ]
  },
  {
   "cell_type": "code",
   "execution_count": null,
   "metadata": {},
   "outputs": [],
   "source": [
    "#sample code to print the numbers from 0 to 9 in a line\n",
    "a=0; b=10 \n",
    "while a < b:              # One way to code counter loops\n",
    "    print(a, end=' ') \n",
    "    a += 1                # Or, a = a + 1\n",
    "\n",
    "\n",
    "#Include end=‘ ‘ in print statement to suppress default move to new line"
   ]
  },
  {
   "cell_type": "markdown",
   "metadata": {},
   "source": [
    "### Let's learn about break, continue, pass and else in loops\n",
    "break Jumps out of the closest enclosing loop <br>\n",
    "continue Jumps to the top of the closest enclosing loop <br>\n",
    "pass Does nothing at all: it’s an empty statement placeholder <br>\n",
    "Loop else block Runs if and only if the loop is exited normally (i.e., without hitting a break)<br>"
   ]
  },
  {
   "cell_type": "code",
   "execution_count": null,
   "metadata": {},
   "outputs": [],
   "source": [
    "#sample code to understand break in loop\n",
    "while True:\n",
    "    name = input('Enter name:')           \n",
    "    if name == 'stop': break \n",
    "    age  = input('Enter age: ') \n",
    "    print('Hello', name, '=>', int(age))"
   ]
  },
  {
   "cell_type": "code",
   "execution_count": null,
   "metadata": {
    "collapsed": true
   },
   "outputs": [],
   "source": [
    "#sample code to understand pass in loop\n",
    "#infinite loop\n",
    "#while True: pass                   \n",
    "# Type Ctrl-C to stop me!"
   ]
  },
  {
   "cell_type": "code",
   "execution_count": null,
   "metadata": {},
   "outputs": [],
   "source": [
    "#sample code to understand continue in loop\n",
    "#program to print the even numbers between 0 (inclusive) and 10 (exclusive)\n",
    "x=10\n",
    "while x:\n",
    "    x=x-1\n",
    "    if x%2!=0: continue   # if x is odd, skip printing it\n",
    "    print(x,end=' ')\n",
    "    "
   ]
  },
  {
   "cell_type": "code",
   "execution_count": null,
   "metadata": {},
   "outputs": [],
   "source": [
    "#sample code to understand else in loop\n",
    "#program to find whether a given number is prime or not\n",
    "y=int(input())\n",
    "if not isinstance(y,int):\n",
    "    print('Prime number check can be done only for integers')\n",
    "else:\n",
    "    if y==0:\n",
    "        print('Zero is neither prime nor composite')\n",
    "    elif y<0:\n",
    "        print('Prime is checked only for positive integers')\n",
    "    else:\n",
    "        x=y//2\n",
    "        while x>1:\n",
    "            if y%x==0:\n",
    "                print('Not prime')\n",
    "                break\n",
    "            x-=1\n",
    "        else:\n",
    "            print('Prime')"
   ]
  },
  {
   "cell_type": "markdown",
   "metadata": {},
   "source": [
    "### Sample problems based on  while loop\n",
    "1) Given marks secured in CSE1001 by the students in a class, design an algorithm and write a Python code to determine the class average. Print only two decimal digits in average.\n"
   ]
  },
  {
   "cell_type": "code",
   "execution_count": null,
   "metadata": {},
   "outputs": [],
   "source": [
    "#code for finding the class average\n",
    "count=0\n",
    "total=0\n",
    "n=int(input('enter how many marks you want to read'))\n",
    "while count<n:\n",
    "    mark=int(input('Enter mark:'))\n",
    "    if mark<0:\n",
    "        print('mark should be greater than 0')\n",
    "        break\n",
    "    total=total+mark    #total+=mark\n",
    "    count+=1            #count=count+1\n",
    "else:\n",
    "    average=total/n\n",
    "    print('average mark is ', format(average,'0.2f'))"
   ]
  },
  {
   "cell_type": "markdown",
   "metadata": {},
   "source": [
    "2) Your teacher has given you the task to draw the structure of a staircase. Being an expert programmer, you decided to make a program for the same. Given the height of the staircase, write a program to print a staircase as shown in the example. For example, Staircase of height 6:\n",
    "\n",
    "\t #\n",
    "\t ##\n",
    "\t ###\n",
    "\t ####\n",
    "\t #####\n",
    "\t ######\n",
    "Boundary Conditions: height >0"
   ]
  },
  {
   "cell_type": "code",
   "execution_count": 31,
   "metadata": {},
   "outputs": [
    {
     "name": "stdout",
     "output_type": "stream",
     "text": [
      "3\n",
      "#\n",
      "#\n",
      "#\n",
      "#\n"
     ]
    }
   ],
   "source": [
    "h = int(input())\n",
    "for i in range(0,h+1):\n",
    "    for j in range(0,i+1):\n",
    "        print('#',end='')"
   ]
  },
  {
   "cell_type": "code",
   "execution_count": null,
   "metadata": {},
   "outputs": [],
   "source": [
    "#code to print the staircase of height h\n",
    "h=int(input())\n",
    "if h<=0:\n",
    "    print(\"height should be greater than 0\")\n",
    "else:\n",
    "    step=1\n",
    "    while step<=h:\n",
    "        pattern=1\n",
    "        while pattern<=step:\n",
    "            print('#',end='')            \n",
    "            pattern+=1\n",
    "        print()\n",
    "        step+=1\n",
    "    "
   ]
  },
  {
   "cell_type": "markdown",
   "metadata": {},
   "source": [
    "### for loop \n",
    "**repeat an action, until some condition has been met**<br>\n",
    "used when the number of iterations is known in advance\n",
    "\n",
    "**syntax**<br>\n",
    "for iterating_var in sequence or range:                 \n",
    "\t# Assign sequence/range items to iterating_var    \n",
    "\tstatements    \n",
    "\tif test: break                # Exit loop now, skip else    \n",
    "    if test: continue             # Go to top of loop now\n",
    "else:    statements               # If we didn't hit a 'break’\n"
   ]
  },
  {
   "cell_type": "code",
   "execution_count": null,
   "metadata": {},
   "outputs": [],
   "source": [
    "#sample code for sequence in 'for loop'\n",
    "for letter in 'python':\n",
    "    print('current letter:',letter)"
   ]
  },
  {
   "cell_type": "code",
   "execution_count": null,
   "metadata": {},
   "outputs": [],
   "source": [
    "#sample code for range in 'for loop'\n",
    "for n in range(1,6):\n",
    "    print(n)\n",
    "#note: the loop runs from start value to one less than end value in range"
   ]
  },
  {
   "cell_type": "markdown",
   "metadata": {},
   "source": [
    "#### syntax of range\n",
    "range( begin,end,step ) <br>\n",
    "where <br>\n",
    "begin - first value in the range; if omitted, then default value is 0 <br>\n",
    "end - one past the last value in the range;  end value may not be omitted <br>\n",
    "step  - amount to increment or decrement; if this parameter is omitted, it defaults to 1 and counts up by ones <br>\n",
    "\n",
    "begin, end, and step must all be integer values; floating-point values  and other types are not allowed\n"
   ]
  },
  {
   "cell_type": "markdown",
   "metadata": {},
   "source": [
    "#### Example of range\n",
    "range(10) ->  0,1,2,3,4,5,6,7,8,9  <br>\n",
    "range(1, 10) -> 1,2,3,4,5,6,7,8,9 <br>\n",
    "range(1, 10, 2) -> 1,3,5,7,9 <br>\n",
    "range(10, 0, -1) -> 10,9,8,7,6,5,4,3,2,1 <br>\n",
    "range(10, 0, -2) -> 10,8,6,4,2 <br>\n",
    "range(2, 11, 2) -> 2,4,6,8,10 <br>\n",
    "range(-5, 5) -> −5,−4,−3,−2,−1,0,1,2,3,4 <br>\n",
    "range(1, 2) -> 1 <br>\n",
    "range(1, 1) -> (empty) <br>\n",
    "range(1, -1) -> (empty)<br>\n",
    "range(1, -1, -1) -> 1,0 <br>\n",
    "range(0) -> (empty) <br>"
   ]
  },
  {
   "cell_type": "code",
   "execution_count": null,
   "metadata": {},
   "outputs": [],
   "source": [
    "#sample code to print even numbers using range\n",
    "for n in range(2,10,2):\n",
    "    print(n)"
   ]
  },
  {
   "cell_type": "code",
   "execution_count": null,
   "metadata": {},
   "outputs": [],
   "source": [
    "#Revisiting printing staircase problem. A simpler way to print it\n",
    "h=int(input())\n",
    "for i in range(1,h+1):\n",
    "    for j in range(1,i+1):\n",
    "        print('#',end='')\n",
    "    print()"
   ]
  },
  {
   "cell_type": "markdown",
   "metadata": {},
   "source": [
    "# Assignment\n",
    "## Test your knowledge on the conepts by trying the following problems on your own\n",
    "\n",
    "### Sequential structure\n",
    "1) An university is setting up a new lab at their premises. Design an algorithm and write Python code to determine the approximate cost to be spent for setting up the lab. Cost for setting the lab is sum of cost of computers, cost of furnitures and labour cost. Use the following formulae for solving the problem:\n",
    "\n",
    "Cost of computer = cost of one computer * number of computers\n",
    "\n",
    "Cost of furniture = Number of tables * cost of one table + number of chairs * cost of one chair\n",
    "\n",
    "Labour cost = number of hours worked * wages per hour!\n",
    "\n",
    "\n",
    "### Conditinal structure\n",
    "1) Write a python  code to  check whether a given number of odd or even. <br>\n",
    "2) Write a python  code to  check whether a given year is leap year or not.<br>\n",
    "3) Write a python  code in finding the roots of a quadratic equation. <br>\n",
    "4) Write a python program to segregate student based on their CGPA. The details are as follows: <br>\n",
    "\n",
    "     <=9 CGPA <10  -  outstanding     \n",
    "     <=8 CGPA <9    -  excellent  \n",
    "     <=7 CGPA  <8    -  good     \n",
    "     <=6 CGPA <7    -  average      \n",
    "     <=5 CGPA <6    -  better     \n",
    "         CGPA <5    -  poor\n",
    "   \n",
    "\n",
    "\n",
    "### Iterative structure\n",
    "\n",
    "1) A number is said to be an Armstrong number if the sum of digits raised to the power of count of digits is equal to the number itself. Write pseudocode and  python  code to  check whether a given number is Armstrong number or not. <br>\n",
    "for example: 153 is an Armstrong number because 1<sup>3</sup>+5<sup>3</sup>+3<sup>3</sup> = 153. Here the power is 3 because the no. of digits in 153 is 3 <br><br><br>\n",
    "\n",
    "2) Given a number, Write pseudocode and python code to reverse the digits in it.<br>\n",
    "for example: 178 should be reversed as 871\n",
    "\n",
    "3) Write pseudocode and python code to print the pattern structure given the value of n. The following structure should be displayed for n=4 <br>\n",
    "      ****     \n",
    "      ***      \n",
    "      **       \n",
    "      *        \n",
    "\n",
    "4) Write pseudocode and python code to print the pattern structure given the \u000b",
    "      value of n. The following structure should be displayed for n=4 <br>\n",
    "      1          <br>\n",
    "      2 2        <br>\n",
    "      3 3 3      <br>\n",
    "      4 4 4 4    <br>\n"
   ]
  }
 ],
 "metadata": {
  "kernelspec": {
   "display_name": "Python 3",
   "language": "python",
   "name": "python3"
  },
  "language_info": {
   "codemirror_mode": {
    "name": "ipython",
    "version": 3
   },
   "file_extension": ".py",
   "mimetype": "text/x-python",
   "name": "python",
   "nbconvert_exporter": "python",
   "pygments_lexer": "ipython3",
   "version": "3.5.2"
  }
 },
 "nbformat": 4,
 "nbformat_minor": 2
}
