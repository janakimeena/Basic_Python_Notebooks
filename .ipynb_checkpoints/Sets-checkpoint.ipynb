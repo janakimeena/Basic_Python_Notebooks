{
 "cells": [
  {
   "cell_type": "markdown",
   "metadata": {},
   "source": [
    "## Problem\n",
    "An University has published the results of the term end examination conducted in April. List of failures in physics, mathematics, chemistry and computer science is available. Write a program to find the number of failures in the examination. This includes the count of failures in one or more subjects"
   ]
  },
  {
   "cell_type": "markdown",
   "metadata": {},
   "source": [
    "# Sets\n",
    "\n",
    "* **Set** is an unordered collection of unique and immutable objects that supports operations corresponding to mathematical set theory <br>\n",
    "* Set is mutable <br>\n",
    "* No duplicates<br>\n",
    "* Sets are iterable, can grow and shrink on demand, and may contain a variety of object types<br>\n",
    "* Does not support indexing<br>\n",
    "\n"
   ]
  },
  {
   "cell_type": "markdown",
   "metadata": {},
   "source": [
    "### Creating a set"
   ]
  },
  {
   "cell_type": "code",
   "execution_count": 1,
   "metadata": {},
   "outputs": [
    {
     "data": {
      "text/plain": [
       "{1, 2, 3, 4}"
      ]
     },
     "execution_count": 1,
     "metadata": {},
     "output_type": "execute_result"
    }
   ],
   "source": [
    "x = {1, 2, 3, 4}   #creating a set with a collections of items\n",
    "x"
   ]
  },
  {
   "cell_type": "code",
   "execution_count": 2,
   "metadata": {},
   "outputs": [
    {
     "data": {
      "text/plain": [
       "{'apple', 'ball', 'cat'}"
      ]
     },
     "execution_count": 2,
     "metadata": {},
     "output_type": "execute_result"
    }
   ],
   "source": [
    "y = {'apple','ball','cat'}\n",
    "y"
   ]
  },
  {
   "cell_type": "code",
   "execution_count": 6,
   "metadata": {},
   "outputs": [
    {
     "data": {
      "text/plain": [
       "{'a', 'm', 'p', 's'}"
      ]
     },
     "execution_count": 6,
     "metadata": {},
     "output_type": "execute_result"
    }
   ],
   "source": [
    "x1 = set('spam')  # Prepare set from a string\n",
    "x1"
   ]
  },
  {
   "cell_type": "code",
   "execution_count": 7,
   "metadata": {},
   "outputs": [
    {
     "data": {
      "text/plain": [
       "{'a', 'm', 'p', 'q', 's'}"
      ]
     },
     "execution_count": 7,
     "metadata": {},
     "output_type": "execute_result"
    }
   ],
   "source": [
    "x1.add('q')    # Add a item to the set \n",
    "x1"
   ]
  },
  {
   "cell_type": "code",
   "execution_count": 10,
   "metadata": {},
   "outputs": [
    {
     "data": {
      "text/plain": [
       "{'best', 'better', 'good'}"
      ]
     },
     "execution_count": 10,
     "metadata": {},
     "output_type": "execute_result"
    }
   ],
   "source": [
    "# creating an empty set and add items\n",
    "s=set()  #set() creats an empty set\n",
    "s.add('good')\n",
    "s.add('better')\n",
    "s.add('best')\n",
    "s"
   ]
  },
  {
   "cell_type": "code",
   "execution_count": 12,
   "metadata": {},
   "outputs": [
    {
     "name": "stdout",
     "output_type": "stream",
     "text": [
      "3\n",
      "21\n",
      "15\n",
      "3\n"
     ]
    },
    {
     "data": {
      "text/plain": [
       "{'15', '21', '3'}"
      ]
     },
     "execution_count": 12,
     "metadata": {},
     "output_type": "execute_result"
    }
   ],
   "source": [
    "#get 'N' items from the user and add them in the set \n",
    "s1=set()\n",
    "N=int(input())\n",
    "for i in range(N):\n",
    "    x=input()\n",
    "    s1.add(x)\n",
    "s1"
   ]
  },
  {
   "cell_type": "markdown",
   "metadata": {},
   "source": [
    "### Set operations"
   ]
  },
  {
   "cell_type": "code",
   "execution_count": 14,
   "metadata": {},
   "outputs": [
    {
     "data": {
      "text/plain": [
       "{1, 2, 3, 4, 5, 6}"
      ]
     },
     "execution_count": 14,
     "metadata": {},
     "output_type": "execute_result"
    }
   ],
   "source": [
    "#Set Union \n",
    "S1 = {1, 2, 3, 4}\n",
    "S2 = {1, 5, 3, 6} | S1  # | - union operator\n",
    "S2"
   ]
  },
  {
   "cell_type": "code",
   "execution_count": 16,
   "metadata": {},
   "outputs": [
    {
     "data": {
      "text/plain": [
       "{1, 3}"
      ]
     },
     "execution_count": 16,
     "metadata": {},
     "output_type": "execute_result"
    }
   ],
   "source": [
    "#Set Intersection \n",
    "S2 = S1 & {1, 3}  # & - Intersection operator\n",
    "S2"
   ]
  },
  {
   "cell_type": "code",
   "execution_count": 17,
   "metadata": {},
   "outputs": [
    {
     "data": {
      "text/plain": [
       "{2}"
      ]
     },
     "execution_count": 17,
     "metadata": {},
     "output_type": "execute_result"
    }
   ],
   "source": [
    "#Set Difference\n",
    "S2 = S1 - {1, 3, 4} # - Difference operator\n",
    "S2"
   ]
  },
  {
   "cell_type": "code",
   "execution_count": 19,
   "metadata": {},
   "outputs": [
    {
     "data": {
      "text/plain": [
       "True"
      ]
     },
     "execution_count": 19,
     "metadata": {},
     "output_type": "execute_result"
    }
   ],
   "source": [
    "# Checcking Super set \n",
    "S1 > {1, 3}"
   ]
  },
  {
   "cell_type": "code",
   "execution_count": 26,
   "metadata": {},
   "outputs": [
    {
     "ename": "TypeError",
     "evalue": "unsupported operand type(s) for |: 'set' and 'list'",
     "output_type": "error",
     "traceback": [
      "\u001b[1;31m---------------------------------------------------------------------------\u001b[0m",
      "\u001b[1;31mTypeError\u001b[0m                                 Traceback (most recent call last)",
      "\u001b[1;32m<ipython-input-26-98f97140eca2>\u001b[0m in \u001b[0;36m<module>\u001b[1;34m()\u001b[0m\n\u001b[0;32m      1\u001b[0m \u001b[1;31m#set operations can be carried out only on set objects\u001b[0m\u001b[1;33m\u001b[0m\u001b[1;33m\u001b[0m\u001b[0m\n\u001b[1;32m----> 2\u001b[1;33m \u001b[1;33m{\u001b[0m\u001b[1;36m1\u001b[0m\u001b[1;33m,\u001b[0m \u001b[1;36m2\u001b[0m\u001b[1;33m,\u001b[0m \u001b[1;36m3\u001b[0m\u001b[1;33m}\u001b[0m \u001b[1;33m|\u001b[0m \u001b[1;33m[\u001b[0m\u001b[1;36m3\u001b[0m\u001b[1;33m,\u001b[0m \u001b[1;36m4\u001b[0m\u001b[1;33m]\u001b[0m\u001b[1;33m\u001b[0m\u001b[0m\n\u001b[0m\u001b[0;32m      3\u001b[0m \u001b[1;31m#{1, 2, 3} | set([3, 4])   # converting list to set\u001b[0m\u001b[1;33m\u001b[0m\u001b[1;33m\u001b[0m\u001b[0m\n",
      "\u001b[1;31mTypeError\u001b[0m: unsupported operand type(s) for |: 'set' and 'list'"
     ]
    }
   ],
   "source": [
    "#set operations can be carried out only on set objects\n",
    "{1, 2, 3} | [3, 4]\n",
    "#{1, 2, 3} | set([3, 4])   # converting list to set"
   ]
  },
  {
   "cell_type": "code",
   "execution_count": 66,
   "metadata": {},
   "outputs": [
    {
     "data": {
      "text/plain": [
       "True"
      ]
     },
     "execution_count": 66,
     "metadata": {},
     "output_type": "execute_result"
    }
   ],
   "source": [
    "#you can also use methods to do set operations\n",
    "S1\n",
    "S1.union([5, 4])   \n",
    "#S1.intersection([5,4])\n",
    "#S1.difference([5,4])\n",
    "\n",
    "#### other operations that modifies the set\n",
    "S1.difference_update([5,4])  #Removes all elements of set{5,4} in S1- inplace\n",
    "S1\n",
    "S1.discard(4)# Removes an element from the set if it is a member and does nothing otherwise\n",
    "S1\n",
    "#S1.remove(1)# works like discard but raise KeyError if element is not present\n",
    "#S1\n",
    "S1 = {1, 2, 3, 4}\n",
    "S2 = {5, 6} \n",
    "S1.isdisjoint(S2) #returns True if two sets have a null intersection\n",
    "\n",
    "S1 = {1,2,3,4,5,6}\n",
    "S2 = {5, 6} \n",
    "S1.issubset(S2) # returns True, if S2 contains S1 and False otherwise\n",
    "S1<S2\n",
    "S1<=S2\n",
    "\n",
    "S1.issuperset(S2) #returns True, if S1 contains S2 and False otherwise\n",
    "S1>=S2"
   ]
  },
  {
   "cell_type": "code",
   "execution_count": 70,
   "metadata": {},
   "outputs": [
    {
     "data": {
      "text/plain": [
       "{4, 5, 6}"
      ]
     },
     "execution_count": 70,
     "metadata": {},
     "output_type": "execute_result"
    }
   ],
   "source": [
    "#deletes an arbitrary element from the set and returns it\n",
    "#returns KeyError if the set is empty\n",
    "S1.pop()\n",
    "S1"
   ]
  },
  {
   "cell_type": "markdown",
   "metadata": {},
   "source": [
    "### Immutable constraints and frozen sets\n",
    "\n",
    "* Can only contain immutable (a.k.a. “hashable”) object types <br><br>\n",
    "\n",
    "* lists and dictionaries cannot be embedded in sets, but tuples can be embeeded if you need to store compound values. Tuples compare by their full values when used in set operations<br>"
   ]
  },
  {
   "cell_type": "code",
   "execution_count": 34,
   "metadata": {},
   "outputs": [
    {
     "data": {
      "text/plain": [
       "{10.25, (1, 2, 3)}"
      ]
     },
     "execution_count": 34,
     "metadata": {},
     "output_type": "execute_result"
    }
   ],
   "source": [
    "S={10.25}\n",
    "#S.add([1, 2, 3])  # invalid\n",
    "#S.add({'a':1})  # invalid\n",
    "S.add((1, 2, 3)) # valid\n",
    "S"
   ]
  },
  {
   "cell_type": "code",
   "execution_count": 35,
   "metadata": {},
   "outputs": [
    {
     "data": {
      "text/plain": [
       "{10.25, (4, 5, 6), (1, 2, 3)}"
      ]
     },
     "execution_count": 35,
     "metadata": {},
     "output_type": "execute_result"
    }
   ],
   "source": [
    "S | {(4, 5, 6), (1, 2, 3)}  "
   ]
  },
  {
   "cell_type": "code",
   "execution_count": 38,
   "metadata": {},
   "outputs": [
    {
     "data": {
      "text/plain": [
       "True"
      ]
     },
     "execution_count": 38,
     "metadata": {},
     "output_type": "execute_result"
    }
   ],
   "source": [
    "(4,5,6) in S  # Check for tuple as a whole\n",
    "(1,2,3) in S"
   ]
  },
  {
   "cell_type": "markdown",
   "metadata": {},
   "source": [
    "### Frozenset\n",
    "\n",
    "Sets themselves are mutable too, and so cannot be nested in other sets directly.\n",
    "\n",
    "If you need to store a set inside another set, the frozenset built-in call works just like set but creates an immutable set that cannot be changed and thus can be embedded in other sets\n",
    "\n"
   ]
  },
  {
   "cell_type": "code",
   "execution_count": 71,
   "metadata": {},
   "outputs": [
    {
     "ename": "AttributeError",
     "evalue": "'frozenset' object has no attribute 'add'",
     "output_type": "error",
     "traceback": [
      "\u001b[1;31m---------------------------------------------------------------------------\u001b[0m",
      "\u001b[1;31mAttributeError\u001b[0m                            Traceback (most recent call last)",
      "\u001b[1;32m<ipython-input-71-046d44624617>\u001b[0m in \u001b[0;36m<module>\u001b[1;34m()\u001b[0m\n\u001b[0;32m      2\u001b[0m \u001b[0mcities\u001b[0m \u001b[1;33m=\u001b[0m \u001b[0mfrozenset\u001b[0m\u001b[1;33m(\u001b[0m\u001b[1;33m[\u001b[0m\u001b[1;34m\"Frankfurt\"\u001b[0m\u001b[1;33m,\u001b[0m \u001b[1;34m\"Basel\"\u001b[0m\u001b[1;33m,\u001b[0m\u001b[1;34m\"Freiburg\"\u001b[0m\u001b[1;33m]\u001b[0m\u001b[1;33m)\u001b[0m\u001b[1;33m\u001b[0m\u001b[0m\n\u001b[0;32m      3\u001b[0m \u001b[1;33m\u001b[0m\u001b[0m\n\u001b[1;32m----> 4\u001b[1;33m \u001b[0mcities\u001b[0m\u001b[1;33m.\u001b[0m\u001b[0madd\u001b[0m\u001b[1;33m(\u001b[0m\u001b[1;34m\"Strasbourg\"\u001b[0m\u001b[1;33m)\u001b[0m \u001b[1;31m#cannot modify\u001b[0m\u001b[1;33m\u001b[0m\u001b[0m\n\u001b[0m",
      "\u001b[1;31mAttributeError\u001b[0m: 'frozenset' object has no attribute 'add'"
     ]
    }
   ],
   "source": [
    "# create frozenset\n",
    "cities = frozenset([\"Frankfurt\", \"Basel\",\"Freiburg\"])\n",
    "\n",
    "cities.add(\"Strasbourg\") #cannot modify\n"
   ]
  },
  {
   "cell_type": "code",
   "execution_count": 72,
   "metadata": {},
   "outputs": [
    {
     "data": {
      "text/plain": [
       "{1, 4, 9, 16}"
      ]
     },
     "execution_count": 72,
     "metadata": {},
     "output_type": "execute_result"
    }
   ],
   "source": [
    "# Set Comprehension\n",
    "{x ** 2 for x in [1, 2, 3, 4]}\n",
    "#{x for x in 'spam'}\n",
    "#S = {c * 4 for c in 'spam'}\n",
    "#S = {c * 4 for c in 'spamham'}\n",
    "#S | {'mmmm', 'xxxx'}\n",
    "#S & {'mmmm', 'xxxx'}"
   ]
  },
  {
   "cell_type": "code",
   "execution_count": null,
   "metadata": {},
   "outputs": [],
   "source": [
    "#solution for the problem\n",
    "math=set()\n",
    "phy=set()\n",
    "che=set()\n",
    "cs=set()\n",
    "m_N=int(input())\n",
    "for i in range(0,m_N):\n",
    "    val=input()\n",
    "    math=math|{val}\n",
    "m_P=int(input())\n",
    "for i in range(0,m_P):\n",
    "    val=input()\n",
    "    phy=phy|{val}\n",
    "m_C=int(input())\n",
    "for i in range(0,m_C):\n",
    "    val=input()\n",
    "    che=che|{val}\n",
    "m_CS=int(input())\n",
    "for i in range(0,m_CS):\n",
    "    val=input()\n",
    "    cs=cs|{val}\n",
    "failure=math|phy|che|cs\n",
    "print(len(failure))"
   ]
  },
  {
   "cell_type": "code",
   "execution_count": 1,
   "metadata": {},
   "outputs": [
    {
     "name": "stdout",
     "output_type": "stream",
     "text": [
      "2\n",
      "2\n",
      "1\n"
     ]
    }
   ],
   "source": [
    "s1 = input()\n",
    "s2 = input()\n",
    "s_s1 = set(s1)\n",
    "s_s2 = set(s2)\n",
    "inter = s_s1&s_s2\n",
    "similarity = 0\n",
    "for x in inter:\n",
    "    if s1.count(x)==s2.count(x):\n",
    "        similarity+=s1.count(x)\n",
    "    else:\n",
    "        similarity+=1\n",
    "print(similarity)"
   ]
  },
  {
   "cell_type": "code",
   "execution_count": null,
   "metadata": {},
   "outputs": [],
   "source": []
  }
 ],
 "metadata": {
  "kernelspec": {
   "display_name": "Python 3",
   "language": "python",
   "name": "python3"
  },
  "language_info": {
   "codemirror_mode": {
    "name": "ipython",
    "version": 3
   },
   "file_extension": ".py",
   "mimetype": "text/x-python",
   "name": "python",
   "nbconvert_exporter": "python",
   "pygments_lexer": "ipython3",
   "version": "3.5.2"
  }
 },
 "nbformat": 4,
 "nbformat_minor": 2
}
