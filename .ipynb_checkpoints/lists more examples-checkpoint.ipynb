{
 "cells": [
  {
   "cell_type": "markdown",
   "metadata": {},
   "source": [
    "#### List comprehension Code to form a list by repeating letters in a string"
   ]
  },
  {
   "cell_type": "code",
   "execution_count": 1,
   "metadata": {},
   "outputs": [
    {
     "name": "stdout",
     "output_type": "stream",
     "text": [
      "apple\n",
      "['aaaa', 'pppp', 'pppp', 'llll', 'eeee']\n"
     ]
    }
   ],
   "source": [
    "s=input()\n",
    "'''l=[]\n",
    "for c in s:\n",
    "    l.append(c*4)'''\n",
    "l = [c*4 for c in s]\n",
    "print(l)"
   ]
  },
  {
   "cell_type": "markdown",
   "metadata": {},
   "source": [
    "#### Addition of two matrices"
   ]
  },
  {
   "cell_type": "code",
   "execution_count": 3,
   "metadata": {},
   "outputs": [
    {
     "name": "stdout",
     "output_type": "stream",
     "text": [
      "2\n",
      "2\n",
      "1\n",
      "1\n",
      "1\n",
      "1\n",
      "1\n",
      "1\n",
      "1\n",
      "1\n",
      "2 2 \n",
      "2 2 \n"
     ]
    }
   ],
   "source": [
    "n_row = int(input())\n",
    "n_col = int(input())\n",
    "matrix1 = []\n",
    "matrix2 = []\n",
    "matrix3 = []\n",
    "for i in range(0,n_row):\n",
    "    matrix1.append([])\n",
    "    for j in range(0,n_col):\n",
    "        ele = int(input())\n",
    "        matrix1[i].append(ele)\n",
    "for i in range(0,n_row):\n",
    "    matrix2.append([])\n",
    "    for j in range(0,n_col):\n",
    "        ele = int(input())\n",
    "        matrix2[i].append(ele)\n",
    "for i in range(0,n_row):\n",
    "    matrix3.append([])\n",
    "    for j in range(0,n_col):\n",
    "        matrix3[i].append(matrix1[i][j]+matrix2[i][j])\n",
    "for i in range(0,n_row):\n",
    "    for j in range(0,n_col):\n",
    "        print(matrix3[i][j],end=' ')\n",
    "    print()"
   ]
  },
  {
   "cell_type": "markdown",
   "metadata": {},
   "source": [
    "#### Mean, Median and Mode"
   ]
  },
  {
   "cell_type": "code",
   "execution_count": null,
   "metadata": {},
   "outputs": [],
   "source": [
    "L = []\n",
    "n=int(input())\n",
    "for i in range(0,n):\n",
    "\te = int(input())\n",
    "\tL.append(e)\n",
    "sum_ele=0\n",
    "for ele in L:\n",
    "\tsum_ele+=ele\n",
    "avg = sum_ele/n\n",
    "\n",
    "print(sum_ele)"
   ]
  },
  {
   "cell_type": "markdown",
   "metadata": {},
   "source": [
    "#### Lists are passed by reference to a function"
   ]
  },
  {
   "cell_type": "code",
   "execution_count": 4,
   "metadata": {},
   "outputs": [
    {
     "name": "stdout",
     "output_type": "stream",
     "text": [
      "[7, 2, 3, 4]\n"
     ]
    }
   ],
   "source": [
    "def f(l):\n",
    "    l[0]= 7\n",
    "l = [1,2,3,4]\n",
    "f(l)\n",
    "print(l)\n"
   ]
  },
  {
   "cell_type": "code",
   "execution_count": 5,
   "metadata": {},
   "outputs": [
    {
     "name": "stdout",
     "output_type": "stream",
     "text": [
      "3\n",
      "12\n",
      "5\n",
      "8\n",
      "3\n",
      "4\n",
      "5\n"
     ]
    }
   ],
   "source": [
    "def min_index(i,l):\n",
    "    min_i=i\n",
    "    for j in range(i+1,len(l)):\n",
    "        if l[min_i][0]>l[j][0] or (l[min_i][0]==l[j][0] and l[min_i][1]>l[j][1]):\n",
    "            min_i=j\n",
    "    return min_i\n",
    "\n",
    "n = int(input())\n",
    "l = []\n",
    "for i in range(0,n):\n",
    "    x = int(input())\n",
    "    y = int(input())\n",
    "    l.append((x,y))"
   ]
  },
  {
   "cell_type": "code",
   "execution_count": null,
   "metadata": {},
   "outputs": [],
   "source": [
    "def min_index(i,l):\n",
    "    min_i=i\n",
    "    for j in range(i+1,len(l)):\n",
    "        if l[min_i][0]>l[j][0] or (l[min_i][0]==l[j][0] and l[min_i][1]>l[j][1]):\n",
    "            min_i=j\n",
    "    return min_i\n",
    "\n",
    "n = int(input())\n",
    "l = []\n",
    "for i in range(0,n):\n",
    "    x = int(input())\n",
    "    y = int(input())\n",
    "    l.append((x,y))"
   ]
  }
 ],
 "metadata": {
  "kernelspec": {
   "display_name": "Python 3",
   "language": "python",
   "name": "python3"
  },
  "language_info": {
   "codemirror_mode": {
    "name": "ipython",
    "version": 3
   },
   "file_extension": ".py",
   "mimetype": "text/x-python",
   "name": "python",
   "nbconvert_exporter": "python",
   "pygments_lexer": "ipython3",
   "version": "3.5.2"
  }
 },
 "nbformat": 4,
 "nbformat_minor": 2
}
