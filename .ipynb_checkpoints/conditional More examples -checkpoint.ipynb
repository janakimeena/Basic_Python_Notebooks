{
 "cells": [
  {
   "cell_type": "markdown",
   "metadata": {},
   "source": [
    "#### Check if a given number is between 50 and 60"
   ]
  },
  {
   "cell_type": "code",
   "execution_count": 2,
   "metadata": {},
   "outputs": [
    {
     "name": "stdout",
     "output_type": "stream",
     "text": [
      "100\n",
      "Not good\n"
     ]
    }
   ],
   "source": [
    "n = int(input())\n",
    "if 50<n<60:                   #n>50 and n<60:\n",
    "    print('Good')\n",
    "else:\n",
    "    print('Not good')"
   ]
  },
  {
   "cell_type": "markdown",
   "metadata": {},
   "source": [
    "#### Else if"
   ]
  },
  {
   "cell_type": "code",
   "execution_count": 3,
   "metadata": {},
   "outputs": [
    {
     "name": "stdout",
     "output_type": "stream",
     "text": [
      "1\n",
      "less\n"
     ]
    }
   ],
   "source": [
    "n = int(input())\n",
    "if n<5:\n",
    "    print('less')\n",
    "elif n==5:\n",
    "    print('equal')\n",
    "else:\n",
    "    print('great')"
   ]
  },
  {
   "cell_type": "markdown",
   "metadata": {},
   "source": [
    "##### Code to check if a given year is leap year"
   ]
  },
  {
   "cell_type": "code",
   "execution_count": 5,
   "metadata": {},
   "outputs": [
    {
     "name": "stdout",
     "output_type": "stream",
     "text": [
      "2016\n",
      "Leap year\n"
     ]
    }
   ],
   "source": [
    "year = int(input())\n",
    "if (year %4==0 and year%100 != 0) or year%400==0:\n",
    "    print('Leap year')\n",
    "else:\n",
    "    print('Not leap year')"
   ]
  },
  {
   "cell_type": "markdown",
   "metadata": {},
   "source": [
    "#### Ladder "
   ]
  },
  {
   "cell_type": "code",
   "execution_count": 6,
   "metadata": {},
   "outputs": [
    {
     "name": "stdout",
     "output_type": "stream",
     "text": [
      "75\n",
      "B grade\n"
     ]
    }
   ],
   "source": [
    "mark = int(input())\n",
    "if mark>=0 and mark<=100:\n",
    "    if mark>=90:\n",
    "        print('S grade')\n",
    "    elif mark>=80: #if mark>=80 and mark<90:\n",
    "        print('A grade')\n",
    "    elif mark>=70:\n",
    "        print('B grade')\n",
    "    elif mark>60:\n",
    "        print('C grade')\n",
    "    elif mark==60:\n",
    "        print('D grade')\n",
    "    else:\n",
    "        print('No grade')\n",
    "else:\n",
    "    print('Invalid input')"
   ]
  },
  {
   "cell_type": "markdown",
   "metadata": {},
   "source": [
    "#### Nature of roots of a quadratic equation"
   ]
  },
  {
   "cell_type": "markdown",
   "metadata": {},
   "source": [
    "import cmath\n",
    "a = int(input())\n",
    "b = int(input())\n",
    "c = int(input())\n",
    "d = b**2 - 4*a*c\n",
    "if d>0:\n",
    "    print('real and unequal')\n",
    "elif d==0:\n",
    "    print('real and equal')\n",
    "else:\n",
    "    print('imaginary')\n",
    "r1 = (-b+cmath.sqrt(d))/2*a #(-b+d**0.5)/2*a\n",
    "r2 = (-b - cmath.sqrt(d))/2*a\n",
    "print(r1)\n",
    "print(r2)"
   ]
  },
  {
   "cell_type": "code",
   "execution_count": 7,
   "metadata": {},
   "outputs": [
    {
     "name": "stdout",
     "output_type": "stream",
     "text": [
      "2\n",
      "2\n",
      "1\n",
      "2\n",
      "3\n",
      "4\n",
      "3\n",
      "4\n",
      "5\n",
      "6\n",
      "4 6 \n",
      "8 10 \n"
     ]
    }
   ],
   "source": []
  },
  {
   "cell_type": "code",
   "execution_count": 9,
   "metadata": {},
   "outputs": [
    {
     "name": "stdout",
     "output_type": "stream",
     "text": [
      "3\n",
      "23\n",
      "45\n",
      "56\n",
      "124\n"
     ]
    }
   ],
   "source": []
  },
  {
   "cell_type": "markdown",
   "metadata": {},
   "source": [
    "##### More than one mode"
   ]
  },
  {
   "cell_type": "code",
   "execution_count": 10,
   "metadata": {},
   "outputs": [
    {
     "name": "stdout",
     "output_type": "stream",
     "text": [
      "3\n",
      "12\n",
      "12\n",
      "34\n",
      "{1: [34], 2: [12]}\n",
      "12\n"
     ]
    }
   ],
   "source": []
  },
  {
   "cell_type": "code",
   "execution_count": null,
   "metadata": {},
   "outputs": [],
   "source": []
  }
 ],
 "metadata": {
  "kernelspec": {
   "display_name": "Python 3",
   "language": "python",
   "name": "python3"
  },
  "language_info": {
   "codemirror_mode": {
    "name": "ipython",
    "version": 3
   },
   "file_extension": ".py",
   "mimetype": "text/x-python",
   "name": "python",
   "nbconvert_exporter": "python",
   "pygments_lexer": "ipython3",
   "version": "3.5.2"
  }
 },
 "nbformat": 4,
 "nbformat_minor": 2
}
