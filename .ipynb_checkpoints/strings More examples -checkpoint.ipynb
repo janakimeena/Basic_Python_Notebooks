{
 "cells": [
  {
   "cell_type": "markdown",
   "metadata": {},
   "source": [
    "#### Find all occurrences of a substring in a given string"
   ]
  },
  {
   "cell_type": "code",
   "execution_count": 2,
   "metadata": {},
   "outputs": [
    {
     "name": "stdout",
     "output_type": "stream",
     "text": [
      "applapplapple\n",
      "pp\n",
      "1\n",
      "5\n",
      "9\n"
     ]
    }
   ],
   "source": [
    "s = input()\n",
    "sub = input()\n",
    "occ = s.find(sub)\n",
    "while occ!=-1:\n",
    "    print(occ)\n",
    "    occ = s.find(sub, occ+len(sub))"
   ]
  },
  {
   "cell_type": "markdown",
   "metadata": {},
   "source": [
    "#### Regular Expression "
   ]
  },
  {
   "cell_type": "code",
   "execution_count": 3,
   "metadata": {},
   "outputs": [
    {
     "name": "stdout",
     "output_type": "stream",
     "text": [
      "Matched\n"
     ]
    }
   ],
   "source": [
    "import re\n",
    "if re.match(\"[a-zA-Z]{2}[^aeiou][a-zA-Z]{2}$\",\"abret\"):\n",
    "    print(\"Matched\")\n",
    "else:\n",
    "    print(\"Not matched\")"
   ]
  },
  {
   "cell_type": "markdown",
   "metadata": {},
   "source": [
    "#### Reverse a string - from a given position 'l'"
   ]
  },
  {
   "cell_type": "code",
   "execution_count": 5,
   "metadata": {},
   "outputs": [
    {
     "name": "stdout",
     "output_type": "stream",
     "text": [
      "l\n",
      "p\n",
      "p\n",
      "a\n"
     ]
    }
   ],
   "source": [
    "def rev_print(s,l):\n",
    "    if l<0:\n",
    "        return\n",
    "    print(s[l])\n",
    "    rev_print(s,l-1)\n",
    "rev_print('apple',3)"
   ]
  },
  {
   "cell_type": "code",
   "execution_count": 6,
   "metadata": {},
   "outputs": [
    {
     "name": "stdout",
     "output_type": "stream",
     "text": [
      "qwe nk\n",
      "qwe\n",
      "nk\n"
     ]
    }
   ],
   "source": [
    "string = input()\n",
    "l = string.split()\n",
    "for e in l:\n",
    "    print(e)"
   ]
  },
  {
   "cell_type": "markdown",
   "metadata": {},
   "source": [
    "#### 12 hour format to 24 hour format"
   ]
  },
  {
   "cell_type": "code",
   "execution_count": 8,
   "metadata": {},
   "outputs": [
    {
     "name": "stdout",
     "output_type": "stream",
     "text": [
      "3:45:00 PM\n",
      "15:45:00\n"
     ]
    }
   ],
   "source": [
    "time = input()\n",
    "l = time.split()\n",
    "time_sp = l[0].split(':')\n",
    "if time_sp[0]=='12':\n",
    "    if l[1]==\"AM\":\n",
    "        time_sp[0]='00'\n",
    "    else:\n",
    "        time_sp[0]='12'\n",
    "else:\n",
    "    if l[1]==\"PM\":\n",
    "        time_sp[0] = str(int(time_sp[0])+12)\n",
    "res = ':'.join(time_sp)\n",
    "print(res)"
   ]
  },
  {
   "cell_type": "markdown",
   "metadata": {},
   "source": [
    "#### Count number of vowels and constanants"
   ]
  },
  {
   "cell_type": "code",
   "execution_count": 9,
   "metadata": {},
   "outputs": [
    {
     "name": "stdout",
     "output_type": "stream",
     "text": [
      "apple\n",
      "Number of vowels  4\n",
      "Number of constants  1\n"
     ]
    }
   ],
   "source": [
    "string = input()\n",
    "vow = 0\n",
    "slen = len(string)\n",
    "'''for ch in string:\n",
    "    if ch=='a' or ch=='e' or ch=='i' or ch == 'o' or ch=='u':\n",
    "        vow+=1'''\n",
    "vowels = 'aeiou'\n",
    "for ch in string:\n",
    "    if ch in vowels:\n",
    "        vow+=1        \n",
    "for i in range(0,slen):\n",
    "    if string[i]=='a' or string[i]=='e' or string[i]=='i' or string[i] == 'o' or string[i]=='u':\n",
    "        vow+=1\n",
    "print('Number of vowels ',vow)\n",
    "print('Number of constants ', slen-vow)"
   ]
  },
  {
   "cell_type": "code",
   "execution_count": null,
   "metadata": {},
   "outputs": [],
   "source": []
  }
 ],
 "metadata": {
  "kernelspec": {
   "display_name": "Python 3",
   "language": "python",
   "name": "python3"
  },
  "language_info": {
   "codemirror_mode": {
    "name": "ipython",
    "version": 3
   },
   "file_extension": ".py",
   "mimetype": "text/x-python",
   "name": "python",
   "nbconvert_exporter": "python",
   "pygments_lexer": "ipython3",
   "version": "3.5.2"
  }
 },
 "nbformat": 4,
 "nbformat_minor": 2
}
