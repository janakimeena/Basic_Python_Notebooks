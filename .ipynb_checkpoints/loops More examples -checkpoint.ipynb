{
 "cells": [
  {
   "cell_type": "markdown",
   "metadata": {},
   "source": [
    "#### Stair case pattern"
   ]
  },
  {
   "cell_type": "code",
   "execution_count": 1,
   "metadata": {},
   "outputs": [
    {
     "name": "stdout",
     "output_type": "stream",
     "text": [
      "5\n",
      "#\n",
      "##\n",
      "###\n",
      "####\n",
      "#####\n"
     ]
    }
   ],
   "source": [
    "ht = int(input())\n",
    "for i in range(1,ht+1):\n",
    "    for j in range(1,i+1):\n",
    "        print('#',end='')\n",
    "    print()"
   ]
  },
  {
   "cell_type": "markdown",
   "metadata": {},
   "source": [
    "#### Check if a number is prime - Checking till square root of n"
   ]
  },
  {
   "cell_type": "code",
   "execution_count": 3,
   "metadata": {},
   "outputs": [
    {
     "name": "stdout",
     "output_type": "stream",
     "text": [
      "12\n",
      "Not prime\n"
     ]
    }
   ],
   "source": [
    "import math\n",
    "n = int(input())\n",
    "if n<2:\n",
    "    print('Invalid input')\n",
    "else:\n",
    "    st = 2\n",
    "    stop = int(math.sqrt(n))\n",
    "    for i in range(st,stop+1):\n",
    "        if n%i==0:\n",
    "            print('Not prime')\n",
    "            break        \n",
    "    else:\n",
    "        print('Prime')"
   ]
  },
  {
   "cell_type": "markdown",
   "metadata": {},
   "source": [
    "#### Check if a given matrix is identity matrix"
   ]
  },
  {
   "cell_type": "code",
   "execution_count": 14,
   "metadata": {},
   "outputs": [
    {
     "name": "stdout",
     "output_type": "stream",
     "text": [
      "2\n",
      "1\n",
      "2\n",
      "3\n",
      "4\n",
      "no\n"
     ]
    }
   ],
   "source": [
    "n = int(input())\n",
    "m = []\n",
    "for i in range(0,n):\n",
    "    m.append([])    \n",
    "    for j in range(0,n):    \n",
    "        m[i].append(int(input()))\n",
    "flag_break = False\n",
    "for i in range(0,n):\n",
    "    if flag_break:\n",
    "        break\n",
    "    for j in range(0,n):\n",
    "        #print(i,',',j)\n",
    "        if i==j and m[i][j]!=1:\n",
    "            print('no')\n",
    "            flag_break = True\n",
    "            break\n",
    "if not flag_break:\n",
    "    print('Yes')\n",
    "                        \n",
    "                    "
   ]
  },
  {
   "cell_type": "markdown",
   "metadata": {},
   "source": [
    "#### Generate all odd numbers"
   ]
  },
  {
   "cell_type": "markdown",
   "metadata": {},
   "source": [
    "n = int(input())\n",
    "for i in range(1,n+1,2):\n",
    "    print(i)"
   ]
  }
 ],
 "metadata": {
  "kernelspec": {
   "display_name": "Python 3",
   "language": "python",
   "name": "python3"
  },
  "language_info": {
   "codemirror_mode": {
    "name": "ipython",
    "version": 3
   },
   "file_extension": ".py",
   "mimetype": "text/x-python",
   "name": "python",
   "nbconvert_exporter": "python",
   "pygments_lexer": "ipython3",
   "version": "3.5.2"
  }
 },
 "nbformat": 4,
 "nbformat_minor": 2
}
