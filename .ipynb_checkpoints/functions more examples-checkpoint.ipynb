{
 "cells": [
  {
   "cell_type": "markdown",
   "metadata": {},
   "source": [
    "#### Accessing arbitrary number of positional arguments "
   ]
  },
  {
   "cell_type": "code",
   "execution_count": 1,
   "metadata": {},
   "outputs": [
    {
     "name": "stdout",
     "output_type": "stream",
     "text": [
      "(2, 3, 4)\n",
      "1\n"
     ]
    }
   ],
   "source": [
    "def f(b,*a):\n",
    "    print(a)\n",
    "    print(b)\n",
    "    #print(c)\n",
    "f(1,2,3,4)"
   ]
  },
  {
   "cell_type": "markdown",
   "metadata": {},
   "source": [
    "#### Accessing arbitrary number of Keyword arguments"
   ]
  },
  {
   "cell_type": "code",
   "execution_count": 2,
   "metadata": {},
   "outputs": [
    {
     "name": "stdout",
     "output_type": "stream",
     "text": [
      "{'d': 2, 'c': 3, 'a': 1}\n",
      "7\n",
      "(4, 5)\n"
     ]
    }
   ],
   "source": [
    "def f(b,*c,**a):\n",
    "    print(a)\n",
    "    print(b)\n",
    "    print(c)\n",
    "f(7,4,5,a=1,d=2,c=3)"
   ]
  },
  {
   "cell_type": "markdown",
   "metadata": {},
   "source": [
    "#### Python code to find factorial\n",
    "#### Iterative approach"
   ]
  },
  {
   "cell_type": "code",
   "execution_count": null,
   "metadata": {},
   "outputs": [],
   "source": [
    "def fact(n):\n",
    "    f = 1\n",
    "    if n==1:\n",
    "        return 1\n",
    "    for i in range(2,n+1):\n",
    "        f*=i\n",
    "    return f\n",
    "print(fact(9))\n"
   ]
  },
  {
   "cell_type": "markdown",
   "metadata": {},
   "source": [
    "#### Factorial - Recursive approach"
   ]
  },
  {
   "cell_type": "code",
   "execution_count": 6,
   "metadata": {},
   "outputs": [
    {
     "name": "stdout",
     "output_type": "stream",
     "text": [
      "362880\n"
     ]
    }
   ],
   "source": [
    "def fact(n):\n",
    "    if n==1:\n",
    "        return 1\n",
    "    return(n*fact(n-1))\n",
    "print(fact(9))"
   ]
  },
  {
   "cell_type": "markdown",
   "metadata": {},
   "source": [
    "#### Program to check if a given number is circular prime"
   ]
  },
  {
   "cell_type": "code",
   "execution_count": 4,
   "metadata": {},
   "outputs": [
    {
     "name": "stdout",
     "output_type": "stream",
     "text": [
      "1991\n",
      "Not circular prime\n"
     ]
    }
   ],
   "source": [
    "def find_length(n):\n",
    "    n1 = n\n",
    "    length = 0\n",
    "    while n1!=0:\n",
    "        length+=1\n",
    "        n1//=10\n",
    "    return length\n",
    "\n",
    "def rotate(n,l):\n",
    "    n = (n%10**(l-1))*10+(n//10**(l-1))\n",
    "    return n\n",
    "\n",
    "def isprime(n):\n",
    "    import math\n",
    "    stop = int(math.sqrt(n))\n",
    "    for i in range(2,stop+1):\n",
    "        if n%i==0:\n",
    "            return False\n",
    "    return True    \n",
    "num = int(input())\n",
    "l = find_length(num)\n",
    "if isprime(num):\n",
    "    for i in range(0,l-1):\n",
    "        num = rotate(num,l)\n",
    "        if not isprime(num):\n",
    "            print('Not circular prime')\n",
    "            break\n",
    "    else:\n",
    "        print('Circular Prime')            \n",
    "else:\n",
    "    print('Not circular prime')"
   ]
  },
  {
   "cell_type": "markdown",
   "metadata": {},
   "source": [
    "#### Default arguments in function"
   ]
  },
  {
   "cell_type": "code",
   "execution_count": 5,
   "metadata": {},
   "outputs": [
    {
     "name": "stdout",
     "output_type": "stream",
     "text": [
      "121\n",
      "2197\n",
      "100\n"
     ]
    }
   ],
   "source": [
    "def pow(x=10,y=2):\n",
    "    z = 1\n",
    "    for i in range(0,y):\n",
    "        z*=x\n",
    "    return z\n",
    "print(pow(11))\n",
    "print(pow(13,3))\n",
    "print(pow())"
   ]
  },
  {
   "cell_type": "markdown",
   "metadata": {},
   "source": [
    "#### nth number in Fibanocci Series"
   ]
  },
  {
   "cell_type": "code",
   "execution_count": 7,
   "metadata": {},
   "outputs": [
    {
     "name": "stdout",
     "output_type": "stream",
     "text": [
      "3\n"
     ]
    }
   ],
   "source": [
    "def fib(n):\n",
    "    if n==1:\n",
    "        return 0\n",
    "    elif n==2:\n",
    "        return 1\n",
    "    return fib(n-1)+fib(n-2)\n",
    "print(fib(5))"
   ]
  },
  {
   "cell_type": "markdown",
   "metadata": {},
   "source": [
    "#### Making body of a function conditional"
   ]
  },
  {
   "cell_type": "code",
   "execution_count": 8,
   "metadata": {},
   "outputs": [
    {
     "name": "stdout",
     "output_type": "stream",
     "text": [
      "even\n"
     ]
    }
   ],
   "source": [
    "a = 4\n",
    "if a%2==0:\n",
    "    def f():\n",
    "        print('even')\n",
    "else:\n",
    "    def f():\n",
    "        print('odd')\n",
    "f()"
   ]
  },
  {
   "cell_type": "code",
   "execution_count": null,
   "metadata": {},
   "outputs": [],
   "source": []
  }
 ],
 "metadata": {
  "kernelspec": {
   "display_name": "Python 3",
   "language": "python",
   "name": "python3"
  },
  "language_info": {
   "codemirror_mode": {
    "name": "ipython",
    "version": 3
   },
   "file_extension": ".py",
   "mimetype": "text/x-python",
   "name": "python",
   "nbconvert_exporter": "python",
   "pygments_lexer": "ipython3",
   "version": "3.5.2"
  }
 },
 "nbformat": 4,
 "nbformat_minor": 2
}
