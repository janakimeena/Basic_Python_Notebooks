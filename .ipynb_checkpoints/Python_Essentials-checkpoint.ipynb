{
 "cells": [
  {
   "cell_type": "markdown",
   "metadata": {},
   "source": [
    "# Python Essentials\n",
    "\n",
    "\n",
    "We will go through the following concepts in this section:\n",
    "* Python data types:\n",
    "    * Numbers\n",
    "    * Strings & print formatting\n",
    "    * Lists\n",
    "    * Booleans\n",
    "* Comparisons Operators\n",
    "    * if, else, elif statements\n",
    "*   Loops (while & for) & range()\n",
    "*   Functions\n",
    "*   Libraries\n",
    "\n",
    "\n",
    "\n",
    "\n",
    "## Python data types:\n",
    "\n",
    "### Numbers \n",
    "Python has two basic number types, <b>integer</b> and <b>float</b>. <br>\n",
    "\n",
    "For example, 2 is an integer and 2.0 is a floating point number which has a decimal attached to it. <br>We can perform arithmetic operations to either of these numbers types. "
   ]
  },
  {
   "cell_type": "code",
   "execution_count": null,
   "metadata": {},
   "outputs": [],
   "source": [
    "# addition\n",
    "5 + 2"
   ]
  },
  {
   "cell_type": "code",
   "execution_count": null,
   "metadata": {},
   "outputs": [],
   "source": [
    "# subtraction\n",
    "5 - 2"
   ]
  },
  {
   "cell_type": "code",
   "execution_count": null,
   "metadata": {},
   "outputs": [],
   "source": [
    "# multiplication\n",
    "5 * 2"
   ]
  },
  {
   "cell_type": "markdown",
   "metadata": {},
   "source": [
    "We can divide them with a forward slash between them (note, two integers are giving floating point in results).<br> \n",
    "<font style=\"font-size:12px;\">*If you are using Python 2, you need to add 2.0 in the expression (e.g. 5 / 2.0) to get the same results.*</font>"
   ]
  },
  {
   "cell_type": "code",
   "execution_count": null,
   "metadata": {},
   "outputs": [],
   "source": [
    "5 / 2"
   ]
  },
  {
   "cell_type": "markdown",
   "metadata": {},
   "source": [
    "We can calculate the power of some number `(exponent)` with two **Asterix** ** together."
   ]
  },
  {
   "cell_type": "code",
   "execution_count": null,
   "metadata": {},
   "outputs": [],
   "source": [
    "5 ** 2"
   ]
  },
  {
   "cell_type": "markdown",
   "metadata": {},
   "source": [
    "**A good practice is to use parentheses `\"( )\"`** to tell the Python, which operation needs to be performed and clarify the order. <br> \n",
    "The operations in the parentheses will be performed first."
   ]
  },
  {
   "cell_type": "code",
   "execution_count": null,
   "metadata": {},
   "outputs": [],
   "source": [
    "(1 + 2) * (3 + 4)"
   ]
  },
  {
   "cell_type": "markdown",
   "metadata": {},
   "source": [
    "### Variables:\n",
    "At many occasions, we pick a variable with some name and assign object or a data type to that variable. We can do this in Python using equal sign operator **`“=“`**. <br>\n",
    "For example, if we assign a value of 5 to a variable `“x”`. Whenever we call `x`, this will return 5 in the output. <br>"
   ]
  },
  {
   "cell_type": "code",
   "execution_count": null,
   "metadata": {
    "collapsed": true
   },
   "outputs": [],
   "source": [
    "# Let's try x = 5 and y = 3\n",
    "x = 5\n",
    "y = 3"
   ]
  },
  {
   "cell_type": "code",
   "execution_count": null,
   "metadata": {},
   "outputs": [],
   "source": [
    "# what is x now!\n",
    "x"
   ]
  },
  {
   "cell_type": "code",
   "execution_count": null,
   "metadata": {},
   "outputs": [],
   "source": [
    "# what is y now!\n",
    "y"
   ]
  },
  {
   "cell_type": "markdown",
   "metadata": {},
   "source": [
    "We can perform arithmetic operations using these variable."
   ]
  },
  {
   "cell_type": "code",
   "execution_count": null,
   "metadata": {},
   "outputs": [],
   "source": [
    "# Adding x and y\n",
    "x + y"
   ]
  },
  {
   "cell_type": "code",
   "execution_count": null,
   "metadata": {},
   "outputs": [],
   "source": [
    "# Multiplying x and y\n",
    "x * y"
   ]
  },
  {
   "cell_type": "markdown",
   "metadata": {},
   "source": [
    "We can perform any arithmetic operation and assign the result to a new variable."
   ]
  },
  {
   "cell_type": "code",
   "execution_count": null,
   "metadata": {
    "collapsed": true
   },
   "outputs": [],
   "source": [
    "# Subtraction of the variables and assigning the result to a new variable\n",
    "z = x - y # 5 - 3"
   ]
  },
  {
   "cell_type": "code",
   "execution_count": null,
   "metadata": {},
   "outputs": [],
   "source": [
    "z"
   ]
  },
  {
   "cell_type": "markdown",
   "metadata": {},
   "source": [
    "### Strings\n",
    "One of the most popular and useful data types in Python are strings. They can be created by enclosing characters in single **' '** or double **\" \"** quotes. <br>\n",
    "Python consider singe and double quotes in the same way. <br>\n",
    "Strings are used to record text information (e.g. person name) as well as arbitrary collection of bytes (e.g. contents of an image file) "
   ]
  },
  {
   "cell_type": "code",
   "execution_count": null,
   "metadata": {},
   "outputs": [],
   "source": [
    "# creating double quotes string\n",
    "\"creating double quotes string\""
   ]
  },
  {
   "cell_type": "code",
   "execution_count": null,
   "metadata": {},
   "outputs": [],
   "source": [
    "# we have lot's of other quotes, let's wrap them in double quotes \n",
    "\"we have lot's of other quotes, let's wrap them in double quotes\" "
   ]
  },
  {
   "cell_type": "markdown",
   "metadata": {},
   "source": [
    "We can **pass a string to a variable** as well"
   ]
  },
  {
   "cell_type": "code",
   "execution_count": null,
   "metadata": {
    "collapsed": true
   },
   "outputs": [],
   "source": [
    "X = \"String\""
   ]
  },
  {
   "cell_type": "code",
   "execution_count": null,
   "metadata": {},
   "outputs": [],
   "source": [
    "X"
   ]
  },
  {
   "cell_type": "markdown",
   "metadata": {},
   "source": [
    "We can use the **`print()`** method to output the variable `X`. This is a **proper and official way** to display the results in Python.<br>"
   ]
  },
  {
   "cell_type": "code",
   "execution_count": null,
   "metadata": {},
   "outputs": [],
   "source": [
    "print(X)"
   ]
  },
  {
   "cell_type": "markdown",
   "metadata": {},
   "source": [
    "### Lists\n",
    "As discussed, string is a sequence of items, lets move on with this idea to the another very useful data type in Python which is List. Before we move on, some key points for the lists are:<br> \n",
    "* **Lists** are positionally ordered collections of arbitrarily typed objects (it **can take any data type**). <br>\n",
    "* It is a sequence of elements separated by commas in a set of square brackets.<br> \n",
    "* Lists have no fixed size.<br>\n",
    "* Lists are mutable — unlike strings, lists can be modified.<br>\n",
    "* Lists can be indexed and sliced, like strings."
   ]
  },
  {
   "cell_type": "code",
   "execution_count": null,
   "metadata": {},
   "outputs": [],
   "source": [
    "# a list of numbers \n",
    "[4,5,6]"
   ]
  },
  {
   "cell_type": "code",
   "execution_count": null,
   "metadata": {},
   "outputs": [],
   "source": [
    "# We can have a list of stings 'd', 'e', 'f' -- Note strings are in quotes \n",
    "['d','e','f']"
   ]
  },
  {
   "cell_type": "code",
   "execution_count": 1,
   "metadata": {},
   "outputs": [
    {
     "data": {
      "text/plain": [
       "['d', 'e', 'f']"
      ]
     },
     "execution_count": 1,
     "metadata": {},
     "output_type": "execute_result"
    }
   ],
   "source": [
    "# We can assign a list to a variable \"my_list\".\n",
    "my_list = ['d','e','f']\n",
    "my_list"
   ]
  },
  {
   "cell_type": "markdown",
   "metadata": {},
   "source": [
    "### Booleans\n",
    "Are simply **`True`** and **`False`** with capital **`T`** and Capital **`F`** -- just a customized version of **1** and **0**"
   ]
  },
  {
   "cell_type": "code",
   "execution_count": null,
   "metadata": {},
   "outputs": [],
   "source": [
    "True"
   ]
  },
  {
   "cell_type": "code",
   "execution_count": null,
   "metadata": {},
   "outputs": [],
   "source": [
    "False"
   ]
  },
  {
   "cell_type": "markdown",
   "metadata": {},
   "source": [
    "Booleans are the output in the following commands. We can check whether or not an item is in the list and python returns a True or False boolean."
   ]
  },
  {
   "cell_type": "code",
   "execution_count": 5,
   "metadata": {},
   "outputs": [],
   "source": [
    "my_list = [1,2,3]"
   ]
  },
  {
   "cell_type": "code",
   "execution_count": 6,
   "metadata": {},
   "outputs": [
    {
     "data": {
      "text/plain": [
       "True"
      ]
     },
     "execution_count": 6,
     "metadata": {},
     "output_type": "execute_result"
    }
   ],
   "source": [
    "# check is the item is in the list\n",
    "1 in my_list"
   ]
  },
  {
   "cell_type": "code",
   "execution_count": 3,
   "metadata": {},
   "outputs": [
    {
     "data": {
      "text/plain": [
       "False"
      ]
     },
     "execution_count": 3,
     "metadata": {},
     "output_type": "execute_result"
    }
   ],
   "source": [
    "5 in my_list"
   ]
  },
  {
   "cell_type": "markdown",
   "metadata": {},
   "source": [
    "\n",
    "## Comparison Operators:\n",
    "Comparison Operators allows to compare two elements to each other, such as, **`greater than, less than, equal to, not equal to`** etc\n",
    "\n",
    "These operators also return a boolean as the output"
   ]
  },
  {
   "cell_type": "code",
   "execution_count": null,
   "metadata": {},
   "outputs": [],
   "source": [
    "3 > 4"
   ]
  },
  {
   "cell_type": "code",
   "execution_count": null,
   "metadata": {},
   "outputs": [],
   "source": [
    "3 < 4"
   ]
  },
  {
   "cell_type": "code",
   "execution_count": null,
   "metadata": {},
   "outputs": [],
   "source": [
    "2 >= 2"
   ]
  },
  {
   "cell_type": "code",
   "execution_count": null,
   "metadata": {},
   "outputs": [],
   "source": [
    "3 <= 4"
   ]
  },
  {
   "cell_type": "code",
   "execution_count": null,
   "metadata": {},
   "outputs": [],
   "source": [
    "# this is different from =, which is assignment operator \n",
    "1 == 1 "
   ]
  },
  {
   "cell_type": "code",
   "execution_count": null,
   "metadata": {},
   "outputs": [],
   "source": [
    "# we can compare strings\n",
    "'Tom' == 'TOM'"
   ]
  },
  {
   "cell_type": "code",
   "execution_count": null,
   "metadata": {},
   "outputs": [],
   "source": [
    "'Tom' != 'Jim'"
   ]
  },
  {
   "cell_type": "code",
   "execution_count": null,
   "metadata": {},
   "outputs": [],
   "source": [
    "'Tom' == 'Tom'"
   ]
  },
  {
   "cell_type": "markdown",
   "metadata": {},
   "source": [
    "## Logic Operators\n",
    "Let's move on and talk about the logic operations. Logic operators combine multiple conditions using key words **`\"and\"`** / **`\"or\"`** operators between conditions.  <br>\n",
    "\n",
    "For **`\"and\"`** operator, **all conditions must be satisfied**"
   ]
  },
  {
   "cell_type": "code",
   "execution_count": 7,
   "metadata": {},
   "outputs": [
    {
     "data": {
      "text/plain": [
       "True"
      ]
     },
     "execution_count": 7,
     "metadata": {},
     "output_type": "execute_result"
    }
   ],
   "source": [
    "# and operator\n",
    "(1 < 2) and (2 < 3)\n",
    "# parentheses are to make the statement more readable only  "
   ]
  },
  {
   "cell_type": "markdown",
   "metadata": {},
   "source": [
    "For **`\"or\"`** operator, **one conditions must be satisfied**"
   ]
  },
  {
   "cell_type": "code",
   "execution_count": null,
   "metadata": {},
   "outputs": [],
   "source": [
    "# or operator\n",
    "(1 < 2) or (2 > 3)"
   ]
  },
  {
   "cell_type": "code",
   "execution_count": null,
   "metadata": {},
   "outputs": [],
   "source": [
    "(1 > 2) or (2 > 3)"
   ]
  },
  {
   "cell_type": "code",
   "execution_count": null,
   "metadata": {},
   "outputs": [],
   "source": [
    "(1 == 2) or (2 == 3) or (4 == 4)"
   ]
  },
  {
   "cell_type": "markdown",
   "metadata": {},
   "source": [
    "So moving forward to \n",
    "## `if, else, elif`  Statements\n",
    "Lots of times, we want to execute the code to perform some action, based on, if the condition is true. We can do this using \"**`if, else, elif`**\" statements. <br>\n",
    "The Python's \"**`if`**\" statement select actions to perform. <br><br>"
   ]
  },
  {
   "cell_type": "code",
   "execution_count": null,
   "metadata": {},
   "outputs": [],
   "source": [
    "# let say, we have a conditon\n",
    "if 3 > 2:\n",
    "    print ('True') \n",
    "# print statement will only execute if the conditon is satisfied"
   ]
  },
  {
   "cell_type": "markdown",
   "metadata": {},
   "source": [
    "<font style=\"font-size:16px;color:red;\">*Notice a block of whitespace before the print( ) statement, in the cell above. It is very important in Python. Python does not use brackets in order to separate a block of code execution statements, it uses white spaces instead. Like most of the other IDEs for Python, Jupyter automatically does the indentation for us after a colon.*<font>"
   ]
  },
  {
   "cell_type": "markdown",
   "metadata": {},
   "source": [
    "If the condition is not satisfied (in the example below), print statement will not execute. Nothing will appear in the output"
   ]
  },
  {
   "cell_type": "code",
   "execution_count": null,
   "metadata": {
    "collapsed": true
   },
   "outputs": [],
   "source": [
    "if 3 < 2:\n",
    "    print ('True')"
   ]
  },
  {
   "cell_type": "markdown",
   "metadata": {},
   "source": [
    "So, the condition is not satisfied and we did not get 'True' in the output. <br>\n",
    "In such situation, we usually want our program to do something even if the condition is not satisfied, e.g., print \"False\"!. This is where we introduce else. "
   ]
  },
  {
   "cell_type": "code",
   "execution_count": null,
   "metadata": {},
   "outputs": [],
   "source": [
    "if 3 == 2: # Change == to != to print True\n",
    "    print ('True')\n",
    "else:\n",
    "    print ('False')"
   ]
  },
  {
   "cell_type": "markdown",
   "metadata": {},
   "source": [
    "We can have multiple conditions in the code!<br>\n",
    "Let's introduce elif in such situation (elif is a short of else-if) <br>\n",
    "We can introduce many elif statements in the code. <br><br>"
   ]
  },
  {
   "cell_type": "code",
   "execution_count": null,
   "metadata": {},
   "outputs": [],
   "source": [
    "if 1 == 2:\n",
    "    print('1st statement')\n",
    "elif 2 == 2:\n",
    "    print('2nd statement')\n",
    "else:\n",
    "    print('3rd statement')"
   ]
  },
  {
   "cell_type": "markdown",
   "metadata": {},
   "source": [
    "***Important to remember for elif statement.*** *Notice that, the code will only execute the first true condition, it does not matter if you have other true conditions in the code after the first true.*<br>\n",
    "\n",
    "Let's try another example here!"
   ]
  },
  {
   "cell_type": "code",
   "execution_count": null,
   "metadata": {},
   "outputs": [],
   "source": [
    "if 1 == 2:\n",
    "    print('1st statement')\n",
    "elif 3 == 3:\n",
    "    print('2nd statement')\n",
    "elif 2 == 2:\n",
    "    print('3nd statement')\n",
    "else:\n",
    "    print('4rd statement')"
   ]
  },
  {
   "cell_type": "markdown",
   "metadata": {},
   "source": [
    "In the code above, although 2==2 is True, the statement will not be printed as the 2nd is already true and is already executed!"
   ]
  },
  {
   "cell_type": "markdown",
   "metadata": {},
   "source": [
    "## while and for loops\n",
    "**while** and **for** are the two main loops in Python.<br>\n",
    "In loops, the statements perform an action over and over, based on the said condition."
   ]
  },
  {
   "cell_type": "markdown",
   "metadata": {},
   "source": [
    "### while loop \n",
    "**continually performed an action, until some condition has been met**<br>\n",
    "Python keeps evaluating the test expression (loop test) before executing the statements, which are nested in the body of the loop, until the test returns a false value:"
   ]
  },
  {
   "cell_type": "code",
   "execution_count": null,
   "metadata": {},
   "outputs": [],
   "source": [
    "# A simple while loop \n",
    "i = 1\n",
    "while i < 5:\n",
    "    # Run the block of code (given below), till \"i < 5\"\n",
    "    print('The value of i is: {}'.format(i)) \n",
    "    i = i+1 "
   ]
  },
  {
   "cell_type": "markdown",
   "metadata": {},
   "source": [
    "if we dont have `i = i+1` statement, we will get into an infinite while loop, because `i` will alway be less than 5.<br>\n",
    "\n",
    "\n",
    "**Note**:<br>\n",
    "*If you get into the infinite while loop, you will notice a continuous out put or Asterisk on left side of your cell for a very long time* **\"In [*]\"** . <br>\n",
    "*Go to the Kernel and restart to get out of this situation.*<br>"
   ]
  },
  {
   "cell_type": "markdown",
   "metadata": {},
   "source": [
    "### for loop \n",
    "for loop allow us to iterate through a sequence. <br>\n",
    "The **`for`** statement works on strings, lists, tuples and other built-in iterables, as well as new user-defined objects. "
   ]
  },
  {
   "cell_type": "markdown",
   "metadata": {},
   "source": [
    "Let's create a list \"my_list\" of numbers and run a `for` loop using that list."
   ]
  },
  {
   "cell_type": "code",
   "execution_count": null,
   "metadata": {
    "collapsed": true
   },
   "outputs": [],
   "source": [
    " my_list = [1,2,3,4,5]"
   ]
  },
  {
   "cell_type": "markdown",
   "metadata": {},
   "source": [
    "In a very simple for loop, we can execute some block of code using for loop for every single item in my_list. "
   ]
  },
  {
   "cell_type": "code",
   "execution_count": null,
   "metadata": {},
   "outputs": [],
   "source": [
    "for item in my_list:\n",
    "    print(item)"
   ]
  },
  {
   "cell_type": "markdown",
   "metadata": {},
   "source": [
    "**Note:**<br>\n",
    "*The temporary variable* **\"item\"** *can be whatever you want e.g. i, a, x, name, num etc.*<br>\n",
    "A good practice is to use it carefully so that you can remember and whenever you come back to check the code, you can understand what you have written.<br>\n",
    "*A good selection in this case is* **\"num\"**, *because we have numbers in my_list*.<br>\n",
    "\n",
    "Another useful trick is, ***always use comments in your code, this is a great way to remember and also helpful while working in a team.*** <br>"
   ]
  },
  {
   "cell_type": "code",
   "execution_count": null,
   "metadata": {},
   "outputs": [],
   "source": [
    "for num in my_list:\n",
    "    print('Hello world') "
   ]
  },
  {
   "cell_type": "markdown",
   "metadata": {},
   "source": [
    "Another thing, you can notice that, the block of code \"print('Hello world')\" does not need to be related to items in the sequence (my_list), we can print anything, we want.!<br>\n",
    "\n",
    "In another example, let's print the square of the numbers in `my_list` using `for loop`!"
   ]
  },
  {
   "cell_type": "code",
   "execution_count": null,
   "metadata": {},
   "outputs": [],
   "source": [
    "# printing square of the numbers in the list.\n",
    "for num in my_list:\n",
    "    print(num**2)"
   ]
  },
  {
   "cell_type": "markdown",
   "metadata": {},
   "source": [
    "This was about the loops at the moment!\n",
    "\n",
    "### `range( )`: \n",
    "#### `<shift + tab>` for the doc string! Very useful to see what the function can do and what type of inputs are needed<br>\n",
    "After discussing loops, I want to introduce a very useful loop-related function **range( )** at this point.<br>\n",
    "* Rather than creating a sequence (specially in for loops), we can use `range()`, which is a generator of numerical values.<br>\n",
    "* **With one argument**, `range` generates a list of integers from zero up to but not including the argument’s value. <br>\n",
    "* **With two arguments**, the first is taken as the lower bound (start). <br>\n",
    "* We can give a **third argument as a step**, which is optional. If the third argument is provided, Python adds the step to each successive integer in the result (the default value of step is +1)."
   ]
  },
  {
   "cell_type": "code",
   "execution_count": null,
   "metadata": {},
   "outputs": [],
   "source": [
    "# This will give the range object, which is iterable.\n",
    "range(5)"
   ]
  },
  {
   "cell_type": "code",
   "execution_count": null,
   "metadata": {},
   "outputs": [],
   "source": [
    "# with method \"list\", we can convert the range object into a list\n",
    "list(range(5))"
   ]
  },
  {
   "cell_type": "code",
   "execution_count": null,
   "metadata": {},
   "outputs": [],
   "source": [
    "# Use of range(), with single argument, in a loop\n",
    "for i in range(5):\n",
    "    print(i)"
   ]
  },
  {
   "cell_type": "code",
   "execution_count": null,
   "metadata": {},
   "outputs": [],
   "source": [
    "# Use of range(), with two argument, in a loop\n",
    "for i in range(3,5):\n",
    "    print(i)"
   ]
  },
  {
   "cell_type": "code",
   "execution_count": null,
   "metadata": {},
   "outputs": [],
   "source": [
    "# Use of range(), with three argument, in a loop\n",
    "for i in range(1,10,2):\n",
    "    print(i)"
   ]
  },
  {
   "cell_type": "markdown",
   "metadata": {},
   "source": [
    "## Functions:\n",
    "You may have come across them before in other languages, where they may have been called subroutines or procedures. <br>\n",
    "\n",
    "**Functions serve two primary development roles:**<br>\n",
    "* Maximizing code reuse and minimizing redundancy\n",
    "* Procedural decomposition by splitting systems into pieces that have well-defined roles.\n",
    "\n",
    "Functions reduce our future work radically and if the operation must be changed later, we only have to update one copy in the function, not many scattered copies throughout the code.<br>\n",
    "\n",
    "In Python, **`\"def\"`** creates a function object and assigns it to a name."
   ]
  },
  {
   "cell_type": "code",
   "execution_count": null,
   "metadata": {
    "collapsed": true
   },
   "outputs": [],
   "source": [
    "# A simplest example\n",
    "def function_name(pram1):\n",
    "    \"\"\"\n",
    "    Body: Statements to execute  \n",
    "    \"\"\"\n",
    "    print(pram1)\n",
    "    # We can concatenate two string together with + sign.\n",
    "    print(pram1 +', this is Python')"
   ]
  },
  {
   "cell_type": "code",
   "execution_count": null,
   "metadata": {},
   "outputs": [],
   "source": [
    "# function call with a\n",
    "function_name('Hello world')"
   ]
  },
  {
   "cell_type": "code",
   "execution_count": null,
   "metadata": {
    "collapsed": true
   },
   "outputs": [],
   "source": [
    "# We can use a default value to pram1 \n",
    "def function_name(pram1 = 'Default Value'):\n",
    "    print(pram1)\n",
    "    # We can concatenate two string together with + sign.\n",
    "    print(pram1 +', this is Python')"
   ]
  },
  {
   "cell_type": "code",
   "execution_count": null,
   "metadata": {},
   "outputs": [],
   "source": [
    "# Now if we don't pass the parameter to the function in the call\n",
    "# It will print the Default Value\n",
    "function_name()"
   ]
  },
  {
   "cell_type": "code",
   "execution_count": null,
   "metadata": {},
   "outputs": [],
   "source": [
    "# If we pass a parameter, it will replace the default value\n",
    "function_name('Hi') # or function_name(pram1='Hi')"
   ]
  },
  {
   "cell_type": "markdown",
   "metadata": {},
   "source": [
    "**Lets create a function that takes two parameters and returns the multiplication of the numbers.**"
   ]
  },
  {
   "cell_type": "code",
   "execution_count": null,
   "metadata": {
    "collapsed": true
   },
   "outputs": [],
   "source": [
    "# function returns the result\n",
    "def my_func(num1, num2):\n",
    "    num = num1*num2\n",
    "    return num\n",
    "# we can write \"return num1**num2\" in a single line as well "
   ]
  },
  {
   "cell_type": "code",
   "execution_count": null,
   "metadata": {},
   "outputs": [],
   "source": [
    "my_func(2,3)\n",
    "# out = my_func(2,3)\n",
    "# print(out)"
   ]
  },
  {
   "cell_type": "markdown",
   "metadata": {},
   "source": [
    "## Libraries\n",
    "A library is a bundle of code made to help you accomplish routine tasks more quickly. Seaborn, for example, allows you to create visualizations with as little as one line of code. Without such a library, you’d have to write a ton of code to take an object and render a chart. Python is a popular language for data analysis in part because it has extremely robust libraries for data manipulation, visualization, machine learning, and a host of other applications."
   ]
  },
  {
   "cell_type": "markdown",
   "metadata": {},
   "source": [
    "### Importing libraries\n",
    "\n",
    "We can import numpy library as shown below"
   ]
  },
  {
   "cell_type": "code",
   "execution_count": 8,
   "metadata": {},
   "outputs": [],
   "source": [
    "import numpy"
   ]
  },
  {
   "cell_type": "markdown",
   "metadata": {},
   "source": [
    "Now we have access to all of the functionality of numpy.\n",
    "\n",
    "For example, we can calculate mean of a set of numbers using numpy's mean function.\n"
   ]
  },
  {
   "cell_type": "code",
   "execution_count": 9,
   "metadata": {},
   "outputs": [
    {
     "name": "stdout",
     "output_type": "stream",
     "text": [
      "3.0\n"
     ]
    }
   ],
   "source": [
    "values = [ 1, 2, 3, 4, 5 ]\n",
    "mean_value = numpy.mean(values)\n",
    "print(mean_value)"
   ]
  },
  {
   "cell_type": "markdown",
   "metadata": {},
   "source": [
    "We can import libraries with an alias to avoid typing long library names repeatedly."
   ]
  },
  {
   "cell_type": "code",
   "execution_count": 10,
   "metadata": {},
   "outputs": [
    {
     "name": "stdout",
     "output_type": "stream",
     "text": [
      "3.0\n"
     ]
    }
   ],
   "source": [
    "import numpy as np\n",
    "mean_value = np.mean(values)\n",
    "print (mean_value)"
   ]
  },
  {
   "cell_type": "markdown",
   "metadata": {},
   "source": [
    "Importing individual modules from the library is also possible"
   ]
  },
  {
   "cell_type": "code",
   "execution_count": null,
   "metadata": {},
   "outputs": [],
   "source": [
    "from numpy import mean\n",
    "mean_value = mean(values)\n",
    "print(mean_value)"
   ]
  }
 ],
 "metadata": {
  "kernelspec": {
   "display_name": "Python 3",
   "language": "python",
   "name": "python3"
  },
  "language_info": {
   "codemirror_mode": {
    "name": "ipython",
    "version": 3
   },
   "file_extension": ".py",
   "mimetype": "text/x-python",
   "name": "python",
   "nbconvert_exporter": "python",
   "pygments_lexer": "ipython3",
   "version": "3.5.2"
  }
 },
 "nbformat": 4,
 "nbformat_minor": 1
}
