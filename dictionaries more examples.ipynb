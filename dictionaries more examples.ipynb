{
 "cells": [
  {
   "cell_type": "markdown",
   "metadata": {},
   "source": [
    "#### More than one mode"
   ]
  },
  {
   "cell_type": "code",
   "execution_count": null,
   "metadata": {},
   "outputs": [],
   "source": [
    "elements=[]\n",
    "num = int(input())\n",
    "for i in range(0,num):\n",
    "    ele = int(input())\n",
    "    elements.append(ele)\n",
    "freq={}\n",
    "for e in elements:\n",
    "    count_ele = elements.count(e)\n",
    "    if freq.get(count_ele):\n",
    "        if e not in freq[count_ele]:\n",
    "            freq[count_ele].append(e)\n",
    "    else:\n",
    "        freq[count_ele] = [e]\n",
    "freqs = list(freq.keys())\n",
    "max_freq = max(freqs)\n",
    "print(freq)\n",
    "for e in freq[max_freq]:\n",
    "    print(e)"
   ]
  }
 ],
 "metadata": {
  "kernelspec": {
   "display_name": "Python 3",
   "language": "python",
   "name": "python3"
  },
  "language_info": {
   "codemirror_mode": {
    "name": "ipython",
    "version": 3
   },
   "file_extension": ".py",
   "mimetype": "text/x-python",
   "name": "python",
   "nbconvert_exporter": "python",
   "pygments_lexer": "ipython3",
   "version": "3.5.2"
  }
 },
 "nbformat": 4,
 "nbformat_minor": 2
}
