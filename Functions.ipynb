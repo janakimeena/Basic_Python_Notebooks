{
 "cells": [
  {
   "attachments": {},
   "cell_type": "markdown",
   "metadata": {},
   "source": [
    "## problem\n",
    "Given three points, write an algorithm and the subsequent Python code to check if they can form a triangle. Three points can form a triangle, if they do not fall in a straight line and length of a side of triangle is less than the sum of length of other two sides of the triangle.\n",
    "\n",
    "\n",
    "For example, the points (5,10), (20,10) and (15,15) can form a triangle as they do not fall in a straight line and length of any side is less than sum of the length of the other two sides\n",
    "\n",
    "Tasks:\n",
    "1) Checking whether three points fall on a straight line\n",
    "2) distance between two points\n",
    "3) Checking whether any side is less than sum of length of other two sides"
   ]
  },
  {
   "attachments": {},
   "cell_type": "markdown",
   "metadata": {},
   "source": [
    "# Functions\n",
    "* A function or routine is a named group of instructions performing some task. \n",
    "* A routine can be invoked (called) as many times as needed in a given program. Thus reduces code duplication and increase modularity\n",
    "* When a routine terminates, execution automatically returns to the point from which it was called.\n",
    "\n",
    "** A few important points about function **\n",
    "* A function has a ** name** that is used when there is a  need  for a task to be executed. \n",
    "* Asking the task to execute is referred to as **“calling”** the function.\n",
    "* Some functions need one or more pieces of input when they are called. Others do not.\n",
    "* Some functions give back a value; others do not. If a function gives back a value, this is referred to as “returning” the value.\n"
   ]
  },
  {
   "cell_type": "markdown",
   "metadata": {},
   "source": [
    "### Defining a function"
   ]
  },
  {
   "cell_type": "code",
   "execution_count": null,
   "metadata": {},
   "outputs": [],
   "source": [
    "def printer(message):    \n",
    "    print('Hello ' + message) \n"
   ]
  },
  {
   "attachments": {},
   "cell_type": "markdown",
   "metadata": {},
   "source": [
    "In the above cell,\n",
    "\n",
    "**def** is a true executable statement: when it runs, it creates a new function object and assigns it to a name\n",
    "\n",
    "**printer** - name of the function\n",
    "\n",
    "**message** is the formal parameter.<br>\n",
    "\n",
    "Formal parameters, or simply the “placeholder” names for the arguments passed."
   ]
  },
  {
   "cell_type": "markdown",
   "metadata": {},
   "source": [
    "### Calling a function"
   ]
  },
  {
   "cell_type": "code",
   "execution_count": null,
   "metadata": {
    "collapsed": true
   },
   "outputs": [],
   "source": [
    "msg=input()\n",
    "printer(msg)"
   ]
  },
  {
   "cell_type": "markdown",
   "metadata": {},
   "source": [
    "**msg** is the 'actual parameter'\n",
    "\n",
    "Actual parameters, or simply “arguments,” - values passed to functions to be operated on.\n"
   ]
  },
  {
   "cell_type": "code",
   "execution_count": null,
   "metadata": {},
   "outputs": [],
   "source": [
    "def adder(a, b=1, *c):    \n",
    "    return a + b + c[0]\n",
    "adder(2,1,3,1,1)"
   ]
  },
  {
   "cell_type": "code",
   "execution_count": 12,
   "metadata": {},
   "outputs": [
    {
     "data": {
      "text/plain": [
       "15"
      ]
     },
     "execution_count": 12,
     "metadata": {},
     "output_type": "execute_result"
    }
   ],
   "source": [
    "def times(x, y):       # Create and assign function ...     \n",
    "    return x * y       \n",
    "# Body executed when called ...\n",
    "times(5,3)"
   ]
  },
  {
   "cell_type": "code",
   "execution_count": 13,
   "metadata": {},
   "outputs": [
    {
     "data": {
      "text/plain": [
       "['S', 'A', 'M']"
      ]
     },
     "execution_count": 13,
     "metadata": {},
     "output_type": "execute_result"
    }
   ],
   "source": [
    "#code to find the intersection of two sets\n",
    "def intersect(seq1, seq2):    \n",
    "    res = []           \t# Start empty \n",
    "    for x in seq1:               # Scan seq1        \n",
    "        if x in seq2:            # Common item?\n",
    "            res.append(x)        # Add to end                     \treturn res\n",
    "    return res\n",
    "s1=\"SPAM\"\n",
    "s2='SCAM'\n",
    "intersect(s1,s2)"
   ]
  },
  {
   "cell_type": "code",
   "execution_count": 15,
   "metadata": {},
   "outputs": [
    {
     "data": {
      "text/plain": [
       "['S', 'A', 'M']"
      ]
     },
     "execution_count": 15,
     "metadata": {},
     "output_type": "execute_result"
    }
   ],
   "source": [
    "# Equivalent Comprehension\n",
    "[x for x in s1 if x in s2]"
   ]
  },
  {
   "cell_type": "code",
   "execution_count": 17,
   "metadata": {},
   "outputs": [
    {
     "data": {
      "text/plain": [
       "[1]"
      ]
     },
     "execution_count": 17,
     "metadata": {},
     "output_type": "execute_result"
    }
   ],
   "source": [
    "#Works for list also\n",
    "x = intersect([1, 2, 3], (1, 4))\n",
    "x"
   ]
  },
  {
   "cell_type": "code",
   "execution_count": 20,
   "metadata": {},
   "outputs": [
    {
     "name": "stdout",
     "output_type": "stream",
     "text": [
      "even\n"
     ]
    }
   ],
   "source": [
    "#Because def is a statement, it can appear anywhere. A statement can—even nested in other statements\n",
    "a = 4\n",
    "if a%2==0:\n",
    "    def func():\n",
    "         print ('even')\n",
    "else:\n",
    "    def func():\n",
    "        print('odd')  #Replace this line as print1('odd') and guess the output\n",
    "func()\n"
   ]
  },
  {
   "cell_type": "markdown",
   "metadata": {},
   "source": [
    "### Function Call through variable"
   ]
  },
  {
   "cell_type": "code",
   "execution_count": null,
   "metadata": {
    "collapsed": true
   },
   "outputs": [],
   "source": [
    "def one():\n",
    "    print('one')\n",
    " \n",
    "def two():\n",
    "    print('two')\n",
    " \n",
    "def three():\n",
    "    print('three')\n",
    " \n",
    "a = 3\n",
    " \n",
    "if a == 1:\n",
    "    call_Func=one\n",
    "elif a == 2:\n",
    "    call_Func=two\n",
    "else:\n",
    "    call_Func=three\n",
    " \n",
    "call_Func()\n"
   ]
  },
  {
   "cell_type": "markdown",
   "metadata": {},
   "source": [
    "### Scope of Variables\n",
    "\n",
    "**LEGB** Rule\n",
    "\n",
    "Local Function <br>\n",
    "Enclosing Function <br>\n",
    "Global <br>\n",
    "Built-in Function <br>"
   ]
  },
  {
   "cell_type": "code",
   "execution_count": 1,
   "metadata": {},
   "outputs": [
    {
     "data": {
      "text/plain": [
       "100"
      ]
     },
     "execution_count": 1,
     "metadata": {},
     "output_type": "execute_result"
    }
   ],
   "source": [
    "# Global scope \n",
    "X = 99                \n",
    "# X and func assigned in module: global\n",
    "\n",
    "def func(Y):          \n",
    "    # Y and Z assigned in function: locals    \n",
    "    # Local scope    \n",
    "    Z = X + Y         # X is a global\n",
    "    return Z\n",
    "func(1)               # func in module: result=100"
   ]
  },
  {
   "cell_type": "code",
   "execution_count": 2,
   "metadata": {},
   "outputs": [
    {
     "name": "stdout",
     "output_type": "stream",
     "text": [
      "88\n"
     ]
    }
   ],
   "source": [
    "X = 88                         # Global X\n",
    "def func():    \n",
    "    X = 99                     # Local X: hides global\n",
    "func() \n",
    "print(X)                       # Prints 88: unchanged\n"
   ]
  },
  {
   "cell_type": "code",
   "execution_count": 3,
   "metadata": {},
   "outputs": [
    {
     "name": "stdout",
     "output_type": "stream",
     "text": [
      "99\n"
     ]
    }
   ],
   "source": [
    "#Accessing global variable\n",
    "\n",
    "X = 88                         # Global X\n",
    "def func():    \n",
    "    global X    \n",
    "    X = 99                     # Global X: outside def\n",
    "func() \n",
    "print(X)                       # Prints 99"
   ]
  },
  {
   "cell_type": "code",
   "execution_count": 4,
   "metadata": {},
   "outputs": [
    {
     "ename": "NameError",
     "evalue": "name 'x' is not defined",
     "output_type": "error",
     "traceback": [
      "\u001b[1;31m---------------------------------------------------------------------------\u001b[0m",
      "\u001b[1;31mNameError\u001b[0m                                 Traceback (most recent call last)",
      "\u001b[1;32m<ipython-input-4-fac8f628c7c7>\u001b[0m in \u001b[0;36m<module>\u001b[1;34m()\u001b[0m\n\u001b[0;32m      6\u001b[0m     \u001b[0mx\u001b[0m \u001b[1;33m=\u001b[0m \u001b[0my\u001b[0m \u001b[1;33m+\u001b[0m \u001b[0mz\u001b[0m\u001b[1;33m\u001b[0m\u001b[0m\n\u001b[0;32m      7\u001b[0m \u001b[1;31m# No need to declare y, z: LEGB rule\u001b[0m\u001b[1;33m\u001b[0m\u001b[1;33m\u001b[0m\u001b[0m\n\u001b[1;32m----> 8\u001b[1;33m \u001b[0mprint\u001b[0m\u001b[1;33m(\u001b[0m\u001b[0mx\u001b[0m\u001b[1;33m)\u001b[0m\u001b[1;33m\u001b[0m\u001b[0m\n\u001b[0m",
      "\u001b[1;31mNameError\u001b[0m: name 'x' is not defined"
     ]
    }
   ],
   "source": [
    "#Accessing global variable\n",
    "\n",
    "y, z = 1, 2                    # Global variables in module\n",
    "def all_global():    \n",
    "    global x                   # Declare globals assigned    \n",
    "    x = y + z                  \n",
    "# No need to declare y, z: LEGB rule\n",
    "print(x)"
   ]
  },
  {
   "cell_type": "markdown",
   "metadata": {},
   "source": [
    "### Nested Functions"
   ]
  },
  {
   "cell_type": "code",
   "execution_count": 5,
   "metadata": {},
   "outputs": [
    {
     "name": "stdout",
     "output_type": "stream",
     "text": [
      "88\n"
     ]
    }
   ],
   "source": [
    "X = 99        # Global scope name: not used\n",
    "def f1():    \n",
    "    X = 88            # Enclosing def local    \n",
    "    def f2():        \n",
    "        print(X)         # Reference made in nested def    \n",
    "    f2()\n",
    "f1()                     # Prints 88: enclosing def local\n"
   ]
  },
  {
   "cell_type": "markdown",
   "metadata": {},
   "source": [
    "### Function returning a function"
   ]
  },
  {
   "cell_type": "code",
   "execution_count": 6,
   "metadata": {},
   "outputs": [
    {
     "name": "stdout",
     "output_type": "stream",
     "text": [
      "88\n"
     ]
    }
   ],
   "source": [
    "def f1():    \n",
    "    X = 88    \n",
    "    def f2():        \n",
    "        print(X)         # Remembers X in enclosing def scope   \n",
    "    return f2            # Return f2 but don't call it\n",
    "action = f1()          # Make, return function \n",
    "action()                 # Call it now: prints 88"
   ]
  },
  {
   "cell_type": "markdown",
   "metadata": {},
   "source": [
    "### Value returning function"
   ]
  },
  {
   "cell_type": "code",
   "execution_count": 7,
   "metadata": {},
   "outputs": [
    {
     "data": {
      "text/plain": [
       "17.0"
      ]
     },
     "execution_count": 7,
     "metadata": {},
     "output_type": "execute_result"
    }
   ],
   "source": [
    "def avg(n1,n2,n3):\n",
    "    return (n1+n2+n3)/3.0\n",
    "\n",
    "avg(10,25,16)"
   ]
  },
  {
   "cell_type": "markdown",
   "metadata": {},
   "source": [
    "### Non-value returning functions"
   ]
  },
  {
   "cell_type": "code",
   "execution_count": 9,
   "metadata": {},
   "outputs": [
    {
     "name": "stdout",
     "output_type": "stream",
     "text": [
      "Hello\n",
      "Welcome to python programming\n",
      "Easy to learn and code\n"
     ]
    }
   ],
   "source": [
    "def displayWelcome():\n",
    "    print(\"Hello\")\n",
    "    print('Welcome to python programming')\n",
    "    print('Easy to learn and code')\n",
    "\n",
    "displayWelcome()"
   ]
  },
  {
   "cell_type": "markdown",
   "metadata": {},
   "source": [
    "### Function returning multiple values"
   ]
  },
  {
   "cell_type": "code",
   "execution_count": 14,
   "metadata": {},
   "outputs": [
    {
     "name": "stdout",
     "output_type": "stream",
     "text": [
      "10 5\n",
      "2 [3, 4]\n"
     ]
    }
   ],
   "source": [
    "x=10\n",
    "y=5\n",
    "def multiple(x,y):        \n",
    "    x = 2        # Changes local names only  \n",
    "    y = [3, 4]        \n",
    "    return x, y         \n",
    "\n",
    "a,b=multiple(x,y)\n",
    "print(x,y)\n",
    "print(a,b)"
   ]
  },
  {
   "cell_type": "code",
   "execution_count": 17,
   "metadata": {},
   "outputs": [
    {
     "name": "stdout",
     "output_type": "stream",
     "text": [
      "1\n",
      "1\n",
      "2\n",
      "2\n",
      "3\n",
      "3\n",
      "Triangle\n"
     ]
    }
   ],
   "source": [
    "import math\n",
    "#solution to the problem\n",
    "def fall_St_line(pt1,pt2,pt3):\n",
    "    # if x-coordinate of all points or\n",
    "    # if y-coordinate of all points are equal\n",
    "    # then the points lie on the same straight line\n",
    "    if (pt1[0]==pt2[0]==pt3[0])or (pt1[1]==pt2[1]==pt3[1]):\n",
    "        return True\n",
    "    else:\n",
    "        return False\n",
    "\n",
    "def calc_Distance(pt1,pt2,pt3):\n",
    "    # distance between pt1 and pt2\n",
    "    d1=math.sqrt((pt1[0]-pt2[0])**2+(pt1[1]-pt2[1])**2)\n",
    "    # distance between pt2 and pt3\n",
    "    d2=math.sqrt((pt2[0]-pt3[0])**2+(pt2[1]-pt3[1])**2)\n",
    "    # distance between pt1 and pt3\n",
    "    d3=math.sqrt((pt1[0]-pt3[0])**2+(pt1[1]-pt3[1])**2)\n",
    "    return(d1,d2,d3)\n",
    "\n",
    "def dist_Check(dist):\n",
    "    if dist[0]>(dist[1]+dist[2]):\n",
    "        return True\n",
    "    elif dist[1]>(dist[0]+dist[2]):\n",
    "        return True\n",
    "    elif dist[2]>(dist[1]+dist[0]):\n",
    "        return True\n",
    "    else:\n",
    "        return False\n",
    "\n",
    "x=int(input())\n",
    "y=int(input())\n",
    "pt1=(x,y)\n",
    "x=int(input())\n",
    "y=int(input())\n",
    "pt2=(x,y)\n",
    "x=int(input())\n",
    "y=int(input())\n",
    "pt3=(x,y)\n",
    "No=False\n",
    "if fall_St_line(pt1,pt2,pt3):\n",
    "    print('No Triangle')\n",
    "    No=True\n",
    "else:\n",
    "    dist=calc_Distance(pt1,pt2,pt3)\n",
    "    if dist_Check(dist):\n",
    "        print('No Triangle')\n",
    "        No=True\n",
    "    if not No:\n",
    "        print('Triangle')\n",
    "\n"
   ]
  },
  {
   "cell_type": "markdown",
   "metadata": {},
   "source": [
    "###### "
   ]
  }
 ],
 "metadata": {
  "kernelspec": {
   "display_name": "Python 3",
   "language": "python",
   "name": "python3"
  },
  "language_info": {
   "codemirror_mode": {
    "name": "ipython",
    "version": 3
   },
   "file_extension": ".py",
   "mimetype": "text/x-python",
   "name": "python",
   "nbconvert_exporter": "python",
   "pygments_lexer": "ipython3",
   "version": "3.6.3"
  }
 },
 "nbformat": 4,
 "nbformat_minor": 2
}
