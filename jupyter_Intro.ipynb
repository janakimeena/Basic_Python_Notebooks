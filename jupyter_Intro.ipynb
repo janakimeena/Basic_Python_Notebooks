{
 "cells": [
  {
   "cell_type": "markdown",
   "metadata": {},
   "source": [
    "## In this notebook, we are going to see how to run and save Jupyter notebooks, familiarise ourselves with their structure and understand the interface<br>\n",
    "\n",
    "<ol><li>Extension of the Jupyter notebooks is .ipynb <br></li>\n",
    "<li>Each .ipynb file is a text file that describes the contents of the notebook in JSON format</li></ol>"
   ]
  },
  {
   "cell_type": "markdown",
   "metadata": {},
   "source": [
    "## Components of a Jupyter notebook are:<br>\n",
    "<li> A kernel is a “computational engine” that executes the code contained in a notebook document.</li>\n",
    "<li> A cell is a container for text to be displayed in the notebook or code to be executed by the notebook’s kernel.</li>"
   ]
  },
  {
   "cell_type": "markdown",
   "metadata": {},
   "source": [
    "## There are two types of cells in a Jupyter notebook<br>\n",
    "\n",
    "<li> A code cell contains code to be executed in the kernel and displays its output below.</li>\n",
    "<li> A Markdown <b>cell </b>contains **text** formatted using Markdown and displays its output in-place when it is run</li>"
   ]
  },
  {
   "cell_type": "markdown",
   "metadata": {},
   "source": [
    "By default any cell is a code cell\n",
    "\n",
    "To execute the contents of a code cell press shift + enter"
   ]
  },
  {
   "cell_type": "code",
   "execution_count": 4,
   "metadata": {},
   "outputs": [
    {
     "name": "stdout",
     "output_type": "stream",
     "text": [
      "Hello\n"
     ]
    }
   ],
   "source": [
    "# to print Hello\n",
    "print('Hello')"
   ]
  },
  {
   "cell_type": "markdown",
   "metadata": {},
   "source": [
    "When you run a cell, its output will be displayed below and the label to its left will be changed from In [ ] to In [1]. <br>\n",
    "The output of a code cell also forms part of the document<br>\n",
    "You can always tell the difference between code and Markdown cells because code cells have that label on the left and Markdown cells do not. <br>"
   ]
  },
  {
   "cell_type": "markdown",
   "metadata": {},
   "source": [
    "There is always one “active” cell highlighted with a border whose colour denotes its current mode, where green means “edit mode” and blue is “command mode.”\n"
   ]
  },
  {
   "cell_type": "markdown",
   "metadata": {},
   "source": [
    "### Processing of a command is shown as '\\*' inside the square braces. Look at the below command it does not execute anything but you can see '\\*' inside square braces for a while"
   ]
  },
  {
   "cell_type": "code",
   "execution_count": 2,
   "metadata": {},
   "outputs": [],
   "source": [
    "import time\n",
    "time.sleep(3)"
   ]
  },
  {
   "cell_type": "markdown",
   "metadata": {},
   "source": [
    "## Keyboard shortcuts\n",
    "Toggle between edit and command mode with Esc and Enter, respectively.\n",
    "In command mode:\n",
    "<li>Scroll up and down your cells with your Up and Down keys</li>\n",
    "<li>Press A or B to insert a new cell above or below the active cell</li>\n",
    "<li>M will transform the active cell to a Markdown cell</li>\n",
    "<li>Y will set the active cell to a code cell</li>\n",
    "<li>D + D (D twice) will delete the active cell</li>\n",
    "<li>Z will undo cell deletion</li>\n",
    "<li>Hold Shift and press Up or Down to select multiple cells at once</li>\n",
    "<li>With multple cells selected, Shift + M will merge your selection</li>\n",
    "<li>Click and Shift + Click in the margin to the left of your cells to select them</li>\n",
    "\n",
    "### In edit mode:\n",
    "Ctrl + Shift + -, will split the active cell at the cursor.\n",
    "\n"
   ]
  }
 ],
 "metadata": {
  "kernelspec": {
   "display_name": "Python 3",
   "language": "python",
   "name": "python3"
  },
  "language_info": {
   "codemirror_mode": {
    "name": "ipython",
    "version": 3
   },
   "file_extension": ".py",
   "mimetype": "text/x-python",
   "name": "python",
   "nbconvert_exporter": "python",
   "pygments_lexer": "ipython3",
   "version": "3.5.2"
  }
 },
 "nbformat": 4,
 "nbformat_minor": 2
}
