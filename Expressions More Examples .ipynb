{
 "cells": [
  {
   "cell_type": "markdown",
   "metadata": {},
   "source": [
    "#### Write a Python code to find difference between compound interest and simple interest"
   ]
  },
  {
   "cell_type": "code",
   "execution_count": 1,
   "metadata": {},
   "outputs": [
    {
     "name": "stdout",
     "output_type": "stream",
     "text": [
      "Enter principle1000\n",
      "Enter number of years2\n",
      "Enter rate of interest10\n",
      "Difference in amount 18.40289750991724\n"
     ]
    }
   ],
   "source": [
    "p = float(input('Enter principle'))\n",
    "n = int(input('Enter number of years'))\n",
    "r = float(input('Enter rate of interest'))\n",
    "SI_Amt = p+(p*n*r/100)\n",
    "CI_Amt = p*(1+r/(100*4))**(n*4)\n",
    "diff = CI_Amt-SI_Amt\n",
    "print('Difference in amount',diff)"
   ]
  },
  {
   "cell_type": "markdown",
   "metadata": {},
   "source": [
    "#### Write a Python code to check if a given year is a leap year"
   ]
  },
  {
   "cell_type": "code",
   "execution_count": null,
   "metadata": {},
   "outputs": [],
   "source": []
  }
 ],
 "metadata": {
  "kernelspec": {
   "display_name": "Python 3",
   "language": "python",
   "name": "python3"
  },
  "language_info": {
   "codemirror_mode": {
    "name": "ipython",
    "version": 3
   },
   "file_extension": ".py",
   "mimetype": "text/x-python",
   "name": "python",
   "nbconvert_exporter": "python",
   "pygments_lexer": "ipython3",
   "version": "3.5.2"
  }
 },
 "nbformat": 4,
 "nbformat_minor": 2
}
